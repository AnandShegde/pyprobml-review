{
 "cells": [
  {
   "cell_type": "markdown",
   "metadata": {},
   "source": [
    "# Gaussian Imputation"
   ]
  },
  {
   "cell_type": "code",
   "execution_count": 1,
   "metadata": {},
   "outputs": [],
   "source": [
    "import jax.numpy as jnp\n",
    "from jax import random\n",
    "import matplotlib.pyplot as plt\n",
    "from scipy.stats import t, laplace, norm\n",
    "import seaborn as sns\n",
    "from sklearn.datasets import make_spd_matrix\n",
    "from probml_utils import savefig, latexify\n",
    "from probml_utils import gauss_utils as gauss\n",
    "from probml_utils import pyprobml_utils as pml\n",
    "import os"
   ]
  },
  {
   "cell_type": "code",
   "execution_count": 2,
   "metadata": {},
   "outputs": [
    {
     "name": "stderr",
     "output_type": "stream",
     "text": [
      "C:\\Users\\NITISH SHARMA\\.pyenv\\pyenv-win\\versions\\3.8.9\\lib\\site-packages\\probml_utils\\plotting.py:25: UserWarning: LATEXIFY environment variable not set, not latexifying\n",
      "  warnings.warn(\"LATEXIFY environment variable not set, not latexifying\")\n"
     ]
    }
   ],
   "source": [
    "latexify(width_scale_factor=2, fig_height=3.0, font_size=14)"
   ]
  },
  {
   "cell_type": "code",
   "execution_count": 3,
   "metadata": {},
   "outputs": [],
   "source": [
    "def plot_hinton_data(data, title, save_name=\"\", graph_pos_ind=1, max_weight=7):\n",
    "    \"\"\"\n",
    "    Draw a hinton plot\n",
    "\n",
    "    Args:\n",
    "    ----------\n",
    "    data : JAX array\n",
    "        Data for the hinton plot\n",
    "\n",
    "    title : string\n",
    "        Title for graph\n",
    "\n",
    "    save_name : string, default=''\n",
    "        Filename for the saved graph\n",
    "\n",
    "    graph_pos_ind : int, default=1\n",
    "        Graph position indicator, to\n",
    "        distinguish between different\n",
    "        plots\n",
    "\n",
    "    max_weight : int, default=7\n",
    "        Parameter to control area of\n",
    "        hinton patches.\n",
    "\n",
    "    Returns:\n",
    "    ----------\n",
    "    None\n",
    "    \"\"\"\n",
    "\n",
    "    # Generate Hinton Plot\n",
    "    plot = plt.figure(graph_pos_ind)\n",
    "    pml.hinton_diagram(data, max_weight=max_weight, ax=plot.gca())\n",
    "\n",
    "    # Update labels and title\n",
    "    plt.title(title)\n",
    "    plt.ylabel(\"Dimension of data\")\n",
    "    plt.xlabel(\"Number of samples\")\n",
    "\n",
    "    # Bring patches to front, above grid\n",
    "    for patch in plot.axes[0].patches:\n",
    "        patch.zorder = 2\n",
    "\n",
    "    # Update the line width and alpha while saving the figure\n",
    "    if \"FIG_DIR\" in os.environ:\n",
    "        plt.grid(linewidth=0.5, alpha=0.8)\n",
    "\n",
    "    # Hide the y-axis and labels\n",
    "    if not graph_pos_ind == 1:\n",
    "        plt.ylabel(\"Placeholder\", color=\"w\")\n",
    "        plot.axes[0].tick_params(axis=\"y\", colors=\"w\")\n",
    "\n",
    "    # Save figure to files\n",
    "    if len(save_name) > 0:\n",
    "        savefig(save_name)\n",
    "\n",
    "    plt.show()"
   ]
  },
  {
   "cell_type": "code",
   "execution_count": 4,
   "metadata": {},
   "outputs": [],
   "source": [
    "def gen_imputer_data(data_dim=8, sample_size=10, threshold_missing=0.5):\n",
    "    \"\"\"\n",
    "    Sample from a multivariate normal distribution generated using random\n",
    "    mean and covariance. Use guassian imputer to update randomly\n",
    "    removed values\n",
    "\n",
    "    Args:\n",
    "    ----------\n",
    "    data_dim : int,deafult=8\n",
    "        Dimension of data\n",
    "\n",
    "    sample_size : int, default=10\n",
    "        Number of samples\n",
    "\n",
    "    threshold_missing : float, default=0.5\n",
    "        Threshold to hide values\n",
    "\n",
    "    Returns:\n",
    "    ----------\n",
    "    None\n",
    "    \"\"\"\n",
    "\n",
    "    # Generate Mean for Multivariate gaussian\n",
    "    mean = random.normal(random.PRNGKey(42), shape=(data_dim, 1))\n",
    "\n",
    "    # Generate a random positive definite matrix i.e covariance matrix\n",
    "    cov = make_spd_matrix(n_dim=data_dim)\n",
    "\n",
    "    # Test if the matrix is positive definite\n",
    "    if not gauss.is_pos_def(cov):\n",
    "        print(f\"The covariance matrix is not positive definite. \\n {cov}\")\n",
    "        return None\n",
    "\n",
    "    # Generate True data matrix\n",
    "    x_true = gauss.gauss_sample(mean, cov, sample_size)\n",
    "\n",
    "    # Randomly adding nan values to True data matrix to create observed data matrix\n",
    "    missing_idx = random.normal(random.PRNGKey(53), shape=(sample_size, data_dim)) < threshold_missing\n",
    "    x_observed = jnp.copy(x_true)\n",
    "    x_observed = x_observed.at[missing_idx].set(jnp.nan)\n",
    "\n",
    "    # Imputing missing/nan values to create imputed data matrix\n",
    "    x_imputed = gauss.gauss_impute(mean, cov, x_observed)\n",
    "\n",
    "    # For plotting, replace nan values with 0's\n",
    "    x_observed0 = jnp.copy(x_true)\n",
    "    x_observed0 = x_observed0.at[missing_idx].set(0)\n",
    "\n",
    "    # Plot the data\n",
    "    plot_hinton_data(\n",
    "        x_observed0,\n",
    "        \"Observed data matrix\",\n",
    "        \"gauss_impute_observed_latexified\",\n",
    "        graph_pos_ind=1,\n",
    "    )\n",
    "    plot_hinton_data(x_true, \"True data matrix\", \"gauss_impute_truth_latexified\", graph_pos_ind=2)\n",
    "    plot_hinton_data(\n",
    "        x_imputed,\n",
    "        \"Imputed data matrix\",\n",
    "        \"gauss_impute_pred_latexified\",\n",
    "        graph_pos_ind=3,\n",
    "    )"
   ]
  },
  {
   "cell_type": "code",
   "execution_count": 5,
   "metadata": {
    "scrolled": false
   },
   "outputs": [
    {
     "name": "stderr",
     "output_type": "stream",
     "text": [
      "WARNING:absl:No GPU/TPU found, falling back to CPU. (Set TF_CPP_MIN_LOG_LEVEL=0 and rerun for more info.)\n",
      "C:\\Users\\NITISH SHARMA\\.pyenv\\pyenv-win\\versions\\3.8.9\\lib\\site-packages\\probml_utils\\plotting.py:65: UserWarning: set FIG_DIR environment variable to save figures\n",
      "  warnings.warn(\"set FIG_DIR environment variable to save figures\")\n"
     ]
    },
    {
     "data": {
      "image/png": "[encoded data removed]",
      "text/plain": [
       "<Figure size 432x288 with 1 Axes>"
      ]
     },
     "metadata": {
      "needs_background": "light"
     },
     "output_type": "display_data"
    },
    {
     "data": {
      "image/png": "[encoded data removed]",
      "text/plain": [
       "<Figure size 432x288 with 1 Axes>"
      ]
     },
     "metadata": {},
     "output_type": "display_data"
    },
    {
     "data": {
      "image/png": "[encoded data removed]",
      "text/plain": [
       "<Figure size 432x288 with 1 Axes>"
      ]
     },
     "metadata": {},
     "output_type": "display_data"
    }
   ],
   "source": [
    "gen_imputer_data()"
   ]
  },
  {
   "cell_type": "code",
   "execution_count": 6,
   "metadata": {},
   "outputs": [
    {
     "data": {
      "application/vnd.jupyter.widget-view+json": {
       "model_id": "bf558af206224ffca51289f7e9ece45f",
       "version_major": 2,
       "version_minor": 0
      },
      "text/plain": [
       "interactive(children=(IntSlider(value=10, continuous_update=False, description='data_dim', max=15, min=5), Int…"
      ]
     },
     "metadata": {},
     "output_type": "display_data"
    }
   ],
   "source": [
    "from ipywidgets import interact\n",
    "import ipywidgets as widgets\n",
    "\n",
    "\n",
    "@interact(\n",
    "    data_dim=widgets.IntSlider(description=\"data_dim\", min=5, max=15, value=10, continuous_update=False),\n",
    "    sample_size=widgets.IntSlider(description=\"sample_size\", min=5, max=15, value=10, continuous_update=False),\n",
    "    threshold_missing=widgets.FloatSlider(\n",
    "        description=\"threshold_missing\",\n",
    "        min=0,\n",
    "        max=1,\n",
    "        value=0.5,\n",
    "        step=0.1,\n",
    "        continuous_update=False,\n",
    "    ),\n",
    ")\n",
    "def update(data_dim, sample_size, threshold_missing):\n",
    "    gen_imputer_data(data_dim=data_dim, sample_size=sample_size, threshold_missing=threshold_missing)"
   ]
  },
  {
   "cell_type": "code",
   "execution_count": null,
   "metadata": {},
   "outputs": [],
   "source": []
  }
 ],
 "metadata": {
  "kernelspec": {
   "display_name": "pyprobml",
   "language": "python",
   "name": "venv"
  },
  "language_info": {
   "codemirror_mode": {
    "name": "ipython",
    "version": 3
   },
   "file_extension": ".py",
   "mimetype": "text/x-python",
   "name": "python",
   "nbconvert_exporter": "python",
   "pygments_lexer": "ipython3",
   "version": "3.8.9"
  },
  "toc": {
   "base_numbering": 1,
   "nav_menu": {},
   "number_sections": true,
   "sideBar": true,
   "skip_h1_title": false,
   "title_cell": "Table of Contents",
   "title_sidebar": "Contents",
   "toc_cell": false,
   "toc_position": {},
   "toc_section_display": true,
   "toc_window_display": false
  }
 },
 "nbformat": 4,
 "nbformat_minor": 4
}

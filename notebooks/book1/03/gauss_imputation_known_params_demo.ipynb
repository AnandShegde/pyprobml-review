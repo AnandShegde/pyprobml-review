{
 "cells": [
  {
   "cell_type": "markdown",
   "metadata": {},
   "source": [
    "# Gaussian Imputation"
   ]
  },
  {
   "cell_type": "code",
   "execution_count": 21,
   "metadata": {},
   "outputs": [],
   "source": [
    "import jax.numpy as jnp\n",
    "from jax import random\n",
    "import matplotlib.pyplot as plt\n",
    "from scipy.stats import t, laplace, norm\n",
    "import seaborn as sns\n",
    "from sklearn.datasets import make_spd_matrix\n",
    "from probml_utils import savefig\n",
    "from probml_utils import gauss_utils as gauss\n",
    "from probml_utils import pyprobml_utils as pml"
   ]
  },
  {
   "cell_type": "code",
   "execution_count": 22,
   "metadata": {},
   "outputs": [],
   "source": [
    "import os\n",
    "\n",
    "LATEXIFY = \"LATEXIFY\" in os.environ\n",
    "\n",
    "\n",
    "os.environ[\"FIG_DIR\"] = os.path.join(os.getcwd(), \"figures\")\n",
    "\n",
    "FIG_DIR = \"FIG_DIR\" in os.environ\n",
    "\n",
    "if FIG_DIR and LATEXIFY:\n",
    "\n",
    "    from probml_utils import latexify\n",
    "\n",
    "    latexify(width_scale_factor=2, fig_height=3.0)"
   ]
  },
  {
   "cell_type": "code",
   "execution_count": 147,
   "metadata": {},
   "outputs": [],
   "source": [
    "def plot_hinton_data(data, title, save_name=\"\", label_tick_ind=1):\n",
    "    \"\"\"\n",
    "    Draw a hinton plot\n",
    "\n",
    "    Args:\n",
    "    ----------\n",
    "    data : JAX array\n",
    "        Data for the hinton graph\n",
    "\n",
    "    title : string\n",
    "        Title for graph\n",
    "\n",
    "    save_name :  string, default=''\n",
    "        Filename for the saved graph\n",
    "\n",
    "    Returns:\n",
    "    ----------\n",
    "    None\n",
    "    \"\"\"\n",
    "\n",
    "    plot = plt.figure(label_tick_ind)\n",
    "    pml.hinton_diagram(data, ax=plot.gca())\n",
    "    plt.title(title)\n",
    "    plt.ylabel(\"Dimension of Data\")\n",
    "    plt.xlabel(\"Number of samples\")\n",
    "    #     print(dir(plot.axes[0]))\n",
    "\n",
    "    if not label_tick_ind == 1:\n",
    "        plt.grid(True)\n",
    "        plot.axes[0].set_yticklabels([])\n",
    "        plot.axes[0].set_xticklabels([])\n",
    "        pass\n",
    "\n",
    "    # Save figure to files\n",
    "    if FIG_DIR and LATEXIFY and len(save_name) > 0:\n",
    "        save_name_lat = save_name + \"_latexified\"\n",
    "        savefig(save_name_lat)\n",
    "    elif FIG_DIR and len(save_name) > 0:\n",
    "        savefig(save_name)\n",
    "\n",
    "    plt.show()"
   ]
  },
  {
   "cell_type": "code",
   "execution_count": 148,
   "metadata": {},
   "outputs": [],
   "source": [
    "def gen_imputer_data(data_dim=8, sample_size=10, threshold_missing=0.5):\n",
    "    \"\"\"\n",
    "    Sample from a multivariate normal distribution generated using random\n",
    "    mean and covariance. Then after randomly removing the values from the\n",
    "    matrix update them using a gaussian imputer.\n",
    "\n",
    "    Args:\n",
    "    ----------\n",
    "    data_dim : int,deafult=7\n",
    "        Dimensions of data\n",
    "\n",
    "    sample_size : int, default=10\n",
    "        Number of samples\n",
    "\n",
    "    threshold_missing :  float, default=0.5\n",
    "        Threshold to hide values\n",
    "\n",
    "    Returns:\n",
    "    ----------\n",
    "    None\n",
    "    \"\"\"\n",
    "\n",
    "    # Generate Mean for Mulivariate gaussian\n",
    "    mean = random.normal(random.PRNGKey(42), shape=(data_dim, 1))\n",
    "\n",
    "    # Generate a random positive definite matrix i.e covariance matrix\n",
    "    cov = make_spd_matrix(n_dim=data_dim)\n",
    "\n",
    "    # Test if the matrix is positive definite\n",
    "    if not gauss.is_pos_def(cov):\n",
    "        print(f\"The covariance matrix is not positive definite. \\n {cov}\")\n",
    "        return None\n",
    "\n",
    "    # The ground truth or hiddden truth\n",
    "    x_full = gauss.gauss_sample(mean, cov, sample_size)\n",
    "\n",
    "    # Randomly adding nan values to ground truth for imputation\n",
    "    missing_idx = random.normal(random.PRNGKey(53), shape=(sample_size, data_dim)) < threshold_missing\n",
    "    x_miss = jnp.copy(x_full)\n",
    "    x_miss = x_miss.at[missing_idx].set(jnp.nan)\n",
    "\n",
    "    # Imputing missing/nan values we created above\n",
    "    x_imputed = gauss.gauss_impute(mean, cov, x_miss)\n",
    "\n",
    "    # This is for plotting, nan values cannot be plotted, hence replacing them with zeros\n",
    "    x_miss0 = jnp.copy(x_full)\n",
    "    x_miss0 = x_miss0.at[missing_idx].set(0)\n",
    "\n",
    "    # Plot the data\n",
    "    plot_hinton_data(x_miss0, \"Observed\", \"gauss_impute_observed\", label_tick_ind=1)\n",
    "    plot_hinton_data(x_full, \"Hidden truth\", \"gauss_impute_truth\", label_tick_ind=2)\n",
    "    plot_hinton_data(x_imputed, \"Imputation True Parameter\", \"gauss_impute_pred\", label_tick_ind=3)"
   ]
  },
  {
   "cell_type": "code",
   "execution_count": 149,
   "metadata": {
    "scrolled": false
   },
   "outputs": [
    {
     "name": "stdout",
     "output_type": "stream",
     "text": [
      "saving image to F:\\Anaconda Jupyter\\pyprobml-review\\figures\\gauss_impute_observed_latexified\n",
      "Figure size: [3. 3.]\n"
     ]
    },
    {
     "data": {
      "image/png": "[encoded data removed]",
      "text/plain": [
       "<Figure size 216x216 with 1 Axes>"
      ]
     },
     "metadata": {
      "needs_background": "light"
     },
     "output_type": "display_data"
    },
    {
     "name": "stdout",
     "output_type": "stream",
     "text": [
      "saving image to F:\\Anaconda Jupyter\\pyprobml-review\\figures\\gauss_impute_truth_latexified\n",
      "Figure size: [3. 3.]\n"
     ]
    },
    {
     "data": {
      "image/png": "[encoded data removed]",
      "text/plain": [
       "<Figure size 216x216 with 1 Axes>"
      ]
     },
     "metadata": {
      "needs_background": "light"
     },
     "output_type": "display_data"
    },
    {
     "name": "stdout",
     "output_type": "stream",
     "text": [
      "saving image to F:\\Anaconda Jupyter\\pyprobml-review\\figures\\gauss_impute_pred_latexified\n",
      "Figure size: [3. 3.]\n"
     ]
    },
    {
     "data": {
      "image/png": "[encoded data removed]",
      "text/plain": [
       "<Figure size 216x216 with 1 Axes>"
      ]
     },
     "metadata": {
      "needs_background": "light"
     },
     "output_type": "display_data"
    }
   ],
   "source": [
    "gen_imputer_data()"
   ]
  },
  {
   "cell_type": "code",
   "execution_count": 123,
   "metadata": {},
   "outputs": [
    {
     "data": {
      "application/vnd.jupyter.widget-view+json": {
       "model_id": "12870790c4734ef3ae1fb851e6f45037",
       "version_major": 2,
       "version_minor": 0
      },
      "text/plain": [
       "interactive(children=(IntSlider(value=10, continuous_update=False, description='data_dim', max=15, min=5), Int…"
      ]
     },
     "metadata": {},
     "output_type": "display_data"
    },
    {
     "data": {
      "image/png": "[encoded data removed]",
      "text/plain": [
       "<Figure size 216x216 with 1 Axes>"
      ]
     },
     "metadata": {
      "needs_background": "light"
     },
     "output_type": "display_data"
    }
   ],
   "source": [
    "from ipywidgets import interact\n",
    "import ipywidgets as widgets\n",
    "\n",
    "\n",
    "@interact(\n",
    "    data_dim=widgets.IntSlider(description=\"data_dim\", min=5, max=15, value=10, continuous_update=False),\n",
    "    sample_size=widgets.IntSlider(description=\"sample_size\", min=5, max=15, value=10, continuous_update=False),\n",
    "    threshold_missing=widgets.FloatSlider(\n",
    "        description=\"threshold_missing\",\n",
    "        min=0,\n",
    "        max=1,\n",
    "        value=0.5,\n",
    "        step=0.1,\n",
    "        continuous_update=False,\n",
    "    ),\n",
    ")\n",
    "def update(data_dim, sample_size, threshold_missing):\n",
    "    gen_imputer_data(data_dim=data_dim, sample_size=sample_size, threshold_missing=threshold_missing)"
   ]
  },
  {
   "cell_type": "code",
   "execution_count": null,
   "metadata": {},
   "outputs": [],
   "source": []
  }
 ],
 "metadata": {
  "kernelspec": {
   "display_name": "pyprobml",
   "language": "python",
   "name": "venv"
  },
  "language_info": {
   "codemirror_mode": {
    "name": "ipython",
    "version": 3
   },
   "file_extension": ".py",
   "mimetype": "text/x-python",
   "name": "python",
   "nbconvert_exporter": "python",
   "pygments_lexer": "ipython3",
   "version": "3.8.9"
  },
  "toc": {
   "base_numbering": 1,
   "nav_menu": {},
   "number_sections": true,
   "sideBar": true,
   "skip_h1_title": false,
   "title_cell": "Table of Contents",
   "title_sidebar": "Contents",
   "toc_cell": false,
   "toc_position": {},
   "toc_section_display": true,
   "toc_window_display": false
  }
 },
 "nbformat": 4,
 "nbformat_minor": 4
}

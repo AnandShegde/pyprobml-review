{
 "cells": [
  {
   "cell_type": "markdown",
   "metadata": {},
   "source": [
    "# Gaussian Imputation"
   ]
  },
  {
   "cell_type": "code",
   "execution_count": 9,
   "metadata": {},
   "outputs": [],
   "source": [
    "import jax.numpy as jnp\n",
    "from jax import random\n",
    "import matplotlib.pyplot as plt\n",
    "from scipy.stats import t, laplace, norm\n",
    "import seaborn as sns\n",
    "from sklearn.datasets import make_spd_matrix\n",
    "from probml_utils import savefig, latexify\n",
    "from probml_utils import gauss_utils as gauss\n",
    "from probml_utils import pyprobml_utils as pml\n",
    "import os"
   ]
  },
  {
   "cell_type": "code",
   "execution_count": 10,
   "metadata": {},
   "outputs": [],
   "source": [
    "latexify(width_scale_factor=2, fig_height=3.0, font_size=14)"
   ]
  },
  {
   "cell_type": "code",
   "execution_count": 11,
   "metadata": {},
   "outputs": [],
   "source": [
    "def plot_hinton_data(data, title, save_name=\"\", graph_pos_ind=1):\n",
    "    \"\"\"\n",
    "    Draw a hinton plot\n",
    "\n",
    "    Args:\n",
    "    ----------\n",
    "    data : JAX array\n",
    "        Data for the hinton graph\n",
    "\n",
    "    title : string\n",
    "        Title for graph\n",
    "\n",
    "    save_name :  string, default=''\n",
    "        Filename for the saved graph\n",
    "\n",
    "    graph_pos_ind :  int, default=1\n",
    "        Graph position indicator\n",
    "\n",
    "    Returns:\n",
    "    ----------\n",
    "    None\n",
    "    \"\"\"\n",
    "\n",
    "    plot = plt.figure(graph_pos_ind)\n",
    "    pml.hinton_diagram(data, ax=plot.gca())\n",
    "    plt.title(title)\n",
    "    plt.ylabel(\"Dimension of data\")\n",
    "    plt.xlabel(\"Number of samples\")\n",
    "\n",
    "    # Generating Legend data based on hinton_diagram function\n",
    "    # --------------------------------------------------------\n",
    "    # Flatten the data matrix\n",
    "    flatten_data = jnp.sort(jnp.abs(jnp.ravel(data)))\n",
    "\n",
    "    # Calculate max weight\n",
    "    max_weight = 2 ** jnp.ceil(jnp.log(flatten_data.max()) / jnp.log(2))\n",
    "\n",
    "    # Get only non zero evenly spaced indexes\n",
    "    idx = jnp.linspace(\n",
    "        jnp.flatnonzero(flatten_data)[0],\n",
    "        jnp.flatnonzero(flatten_data)[-1],\n",
    "        5,\n",
    "        dtype=int,\n",
    "    )\n",
    "\n",
    "    # Select data based on index\n",
    "    flatten_data_val = flatten_data[idx]\n",
    "\n",
    "    # Calculate dimensions of square\n",
    "    size = jnp.sqrt(flatten_data_val / max_weight)\n",
    "\n",
    "    # Create a patch for legend\n",
    "    patches = [\n",
    "        plt.plot(\n",
    "            [],\n",
    "            [],\n",
    "            marker=\"s\",\n",
    "            ms=size[i] * 15,\n",
    "            alpha=0.4,\n",
    "            ls=\"\",\n",
    "            mec=None,\n",
    "            color=\"grey\",\n",
    "            label=f\"{flatten_data_val[i]:.1f}\",\n",
    "        )[0]\n",
    "        for i in range(len(size))\n",
    "    ]\n",
    "\n",
    "    # Update Legend with patches - Uncomment to see legend\n",
    "    # plt.legend(handles=patches, loc=\"lower left\")\n",
    "    # --------------------------------------------------------\n",
    "\n",
    "    # Update the line width and alpha while saving the figure\n",
    "    if \"FIG_DIR\" in os.environ:\n",
    "        plt.grid(linewidth=0.5, alpha=0.8)\n",
    "\n",
    "    # Hide the labels and axes\n",
    "    if not graph_pos_ind == 1:\n",
    "        plt.ylabel(\"Placeholder\", color=\"w\")\n",
    "        # plt.xlabel(\"Placeholder\", color=\"w\")\n",
    "        # plot.axes[0].tick_params(axis=\"x\", colors=\"w\")\n",
    "        plot.axes[0].tick_params(axis=\"y\", colors=\"w\")\n",
    "        plt.grid(True)\n",
    "\n",
    "    # Save figure to files\n",
    "    if len(save_name) > 0:\n",
    "        savefig(save_name)\n",
    "\n",
    "    plt.show()"
   ]
  },
  {
   "cell_type": "code",
   "execution_count": 12,
   "metadata": {},
   "outputs": [],
   "source": [
    "def gen_imputer_data(data_dim=8, sample_size=10, threshold_missing=0.5):\n",
    "    \"\"\"\n",
    "    Sample from a multivariate normal distribution generated using random\n",
    "    mean and covariance. Then after randomly removing the values from the\n",
    "    matrix update them using a gaussian imputer.\n",
    "\n",
    "    Args:\n",
    "    ----------\n",
    "    data_dim : int,deafult=7\n",
    "        Dimensions of data\n",
    "\n",
    "    sample_size : int, default=10\n",
    "        Number of samples\n",
    "\n",
    "    threshold_missing :  float, default=0.5\n",
    "        Threshold to hide values\n",
    "\n",
    "    Returns:\n",
    "    ----------\n",
    "    None\n",
    "    \"\"\"\n",
    "\n",
    "    # Generate Mean for Multivariate gaussian\n",
    "    mean = random.normal(random.PRNGKey(42), shape=(data_dim, 1))\n",
    "\n",
    "    # Generate a random positive definite matrix i.e covariance matrix\n",
    "    cov = make_spd_matrix(n_dim=data_dim)\n",
    "\n",
    "    # Test if the matrix is positive definite\n",
    "    if not gauss.is_pos_def(cov):\n",
    "        print(f\"The covariance matrix is not positive definite. \\n {cov}\")\n",
    "        return None\n",
    "\n",
    "    # The ground truth or hiddden truth\n",
    "    x_full = gauss.gauss_sample(mean, cov, sample_size)\n",
    "\n",
    "    # Randomly adding nan values to ground truth for imputation\n",
    "    missing_idx = random.normal(random.PRNGKey(53), shape=(sample_size, data_dim)) < threshold_missing\n",
    "    x_miss = jnp.copy(x_full)\n",
    "    x_miss = x_miss.at[missing_idx].set(jnp.nan)\n",
    "\n",
    "    # Imputing missing/nan values we created above\n",
    "    x_imputed = gauss.gauss_impute(mean, cov, x_miss)\n",
    "\n",
    "    # This is for plotting, nan values cannot be plotted, hence replacing them with zeros\n",
    "    x_miss0 = jnp.copy(x_full)\n",
    "    x_miss0 = x_miss0.at[missing_idx].set(0)\n",
    "\n",
    "    # Plot the data\n",
    "    plot_hinton_data(\n",
    "        x_miss0,\n",
    "        \"Observed data matrix\",\n",
    "        \"gauss_impute_observed_latexified\",\n",
    "        graph_pos_ind=1,\n",
    "    )\n",
    "    plot_hinton_data(x_full, \"True data Matrix\", \"gauss_impute_truth_latexified\", graph_pos_ind=2)\n",
    "    plot_hinton_data(\n",
    "        x_imputed,\n",
    "        \"Imputed data matrix\",\n",
    "        \"gauss_impute_pred_latexified\",\n",
    "        graph_pos_ind=3,\n",
    "    )"
   ]
  },
  {
   "cell_type": "code",
   "execution_count": 13,
   "metadata": {
    "scrolled": false
   },
   "outputs": [
    {
     "name": "stderr",
     "output_type": "stream",
     "text": [
      "C:\\Users\\NITISH SHARMA\\.pyenv\\pyenv-win\\versions\\3.8.9\\lib\\site-packages\\probml_utils\\plotting.py:65: UserWarning: set FIG_DIR environment variable to save figures\n",
      "  warnings.warn(\"set FIG_DIR environment variable to save figures\")\n"
     ]
    },
    {
     "data": {
      "image/png": "[encoded data removed]",
      "text/plain": [
       "<Figure size 432x288 with 1 Axes>"
      ]
     },
     "metadata": {
      "needs_background": "light"
     },
     "output_type": "display_data"
    },
    {
     "data": {
      "image/png": "[encoded data removed]",
      "text/plain": [
       "<Figure size 432x288 with 1 Axes>"
      ]
     },
     "metadata": {},
     "output_type": "display_data"
    },
    {
     "data": {
      "image/png": "[encoded data removed]",
      "text/plain": [
       "<Figure size 432x288 with 1 Axes>"
      ]
     },
     "metadata": {},
     "output_type": "display_data"
    }
   ],
   "source": [
    "gen_imputer_data()"
   ]
  },
  {
   "cell_type": "code",
   "execution_count": 14,
   "metadata": {},
   "outputs": [
    {
     "data": {
      "application/vnd.jupyter.widget-view+json": {
       "model_id": "b6788935344e4274bd9dc8137292f353",
       "version_major": 2,
       "version_minor": 0
      },
      "text/plain": [
       "interactive(children=(IntSlider(value=10, continuous_update=False, description='data_dim', max=15, min=5), Int…"
      ]
     },
     "metadata": {},
     "output_type": "display_data"
    }
   ],
   "source": [
    "from ipywidgets import interact\n",
    "import ipywidgets as widgets\n",
    "\n",
    "\n",
    "@interact(\n",
    "    data_dim=widgets.IntSlider(description=\"data_dim\", min=5, max=15, value=10, continuous_update=False),\n",
    "    sample_size=widgets.IntSlider(description=\"sample_size\", min=5, max=15, value=10, continuous_update=False),\n",
    "    threshold_missing=widgets.FloatSlider(\n",
    "        description=\"threshold_missing\",\n",
    "        min=0,\n",
    "        max=1,\n",
    "        value=0.5,\n",
    "        step=0.1,\n",
    "        continuous_update=False,\n",
    "    ),\n",
    ")\n",
    "def update(data_dim, sample_size, threshold_missing):\n",
    "    gen_imputer_data(data_dim=data_dim, sample_size=sample_size, threshold_missing=threshold_missing)"
   ]
  },
  {
   "cell_type": "code",
   "execution_count": null,
   "metadata": {},
   "outputs": [],
   "source": []
  }
 ],
 "metadata": {
  "kernelspec": {
   "display_name": "pyprobml",
   "language": "python",
   "name": "venv"
  },
  "language_info": {
   "codemirror_mode": {
    "name": "ipython",
    "version": 3
   },
   "file_extension": ".py",
   "mimetype": "text/x-python",
   "name": "python",
   "nbconvert_exporter": "python",
   "pygments_lexer": "ipython3",
   "version": "3.8.9"
  },
  "toc": {
   "base_numbering": 1,
   "nav_menu": {},
   "number_sections": true,
   "sideBar": true,
   "skip_h1_title": false,
   "title_cell": "Table of Contents",
   "title_sidebar": "Contents",
   "toc_cell": false,
   "toc_position": {},
   "toc_section_display": true,
   "toc_window_display": false
  }
 },
 "nbformat": 4,
 "nbformat_minor": 4
}

{
 "cells": [
  {
   "cell_type": "markdown",
   "metadata": {},
   "source": [
    "# Inference about a random variable given a noisy observation"
   ]
  },
  {
   "cell_type": "code",
   "execution_count": 1,
   "metadata": {},
   "outputs": [],
   "source": [
    "import jax.numpy as jnp\n",
    "from jax import random\n",
    "import matplotlib.pyplot as plt\n",
    "from scipy.stats import multivariate_normal as mvn\n",
    "import seaborn as sns\n",
    "\n",
    "try:\n",
    "    import probml_utils as pml\n",
    "except:\n",
    "    %pip install git+https://github.com/probml/probml-utils.git\n",
    "    import probml_utils as pml\n",
    "\n",
    "from probml_utils import savefig, latexify"
   ]
  },
  {
   "cell_type": "code",
   "execution_count": 2,
   "metadata": {},
   "outputs": [
    {
     "name": "stderr",
     "output_type": "stream",
     "text": [
      "C:\\Users\\NITISH SHARMA\\.pyenv\\pyenv-win\\versions\\3.9.10\\lib\\site-packages\\probml_utils\\plotting.py:26: UserWarning: LATEXIFY environment variable not set, not latexifying\n",
      "  warnings.warn(\"LATEXIFY environment variable not set, not latexifying\")\n"
     ]
    }
   ],
   "source": [
    "latexify(width_scale_factor=2, fig_height=2.5)"
   ]
  },
  {
   "cell_type": "code",
   "execution_count": 3,
   "metadata": {},
   "outputs": [],
   "source": [
    "def plot_data(quantiles, pdf_dict, variance_prior, save_name=\"\"):\n",
    "    \"\"\"\n",
    "    Plot data\n",
    "\n",
    "    Args:\n",
    "    ----------\n",
    "    quantiles : JAX array\n",
    "        Quantiles for normal distribution\n",
    "\n",
    "    pdf_dict : dictionary\n",
    "        Data and plotting options for\n",
    "        all PDF's\n",
    "\n",
    "    variance_prior : int/float\n",
    "        Variance of Prior\n",
    "\n",
    "    save_name : string, default=''\n",
    "        Filename for the saved graph\n",
    "\n",
    "    Returns:\n",
    "    ----------\n",
    "    None\n",
    "    \"\"\"\n",
    "\n",
    "    # Setup graph and parameters\n",
    "    fig = plt.figure()\n",
    "    plt.ylim(0, 0.6)\n",
    "    plt.xlim(-7, 7)\n",
    "    plt.xticks([-7, 0, 7])\n",
    "\n",
    "    # Plot graph\n",
    "    for k, v in pdf_dict.items():\n",
    "        plt.plot(\n",
    "            quantiles,\n",
    "            v[\"pdf\"],\n",
    "            color=v[\"color\"],\n",
    "            label=k,\n",
    "            linestyle=v[\"linestyle\"],\n",
    "            linewidth=1.5,\n",
    "        )\n",
    "\n",
    "    # Update labels,legends and title\n",
    "    plt.title(f\"Prior with variance of {variance_prior}\")\n",
    "    plt.xlabel(\"$x$\")\n",
    "    plt.ylabel(\"$p(x)$\")\n",
    "    plt.legend(loc=\"upper left\")\n",
    "    sns.despine()\n",
    "\n",
    "    # Save figure to files\n",
    "    if len(save_name) > 0:\n",
    "        savefig(save_name)\n",
    "\n",
    "    plt.show()"
   ]
  },
  {
   "cell_type": "code",
   "execution_count": 4,
   "metadata": {},
   "outputs": [],
   "source": [
    "def generate_PDF(prior_var=[1, 5], prior_mean=[0, 0], observed_var=[1, 1]):\n",
    "    \"\"\"\n",
    "    Plot PDF for prior, likelihood and posterior of a gaussian\n",
    "    distribution to gain insight about a random variable given\n",
    "    a noisy observation under the effect of a strong prior\n",
    "    versus a weak prior\n",
    "\n",
    "    Args:\n",
    "    ----------\n",
    "    prior_var : list,default=[1, 5]\n",
    "        List of Variance of priors\n",
    "\n",
    "    prior_mean : list,default=[0, 0]\n",
    "        List of Mean of Priors\n",
    "\n",
    "    observed_var : list, default=[1,1]\n",
    "        List of Variance of Noise\n",
    "\n",
    "    Returns:\n",
    "    ----------\n",
    "    None\n",
    "    \"\"\"\n",
    "\n",
    "    # The noisy observation\n",
    "    obsrvd_val = 3\n",
    "\n",
    "    # Quantiles for data\n",
    "    quantiles = jnp.arange(-7, 7, 0.10)\n",
    "\n",
    "    for mean_prior, variance_prior, variance_observed in zip(prior_mean, prior_var, observed_var):\n",
    "\n",
    "        # Prior variance,mean and PDF\n",
    "        prior_var = variance_prior\n",
    "        prior_mu = mean_prior\n",
    "        prior_pdf = mvn.pdf(quantiles, mean=prior_mu, cov=prior_var)\n",
    "\n",
    "        # Likelihood variance,mean and PDF\n",
    "        mle_var = variance_observed\n",
    "        mle_mu = jnp.mean(obsrvd_val)\n",
    "        mle_pdf = mvn.pdf(quantiles, mean=mle_mu, cov=mle_var)\n",
    "\n",
    "        # Number of noisy observations\n",
    "        obsrvd_val_count = jnp.size(obsrvd_val)\n",
    "\n",
    "        # Posterior variance,mean and PDF\n",
    "        pos_var = (mle_var * prior_var) / ((obsrvd_val_count * prior_var) + mle_var)\n",
    "        pos_mu = pos_var * ((prior_mu / prior_var) + ((obsrvd_val_count * mle_mu) / mle_var))\n",
    "        pos_pdf = mvn.pdf(quantiles, mean=pos_mu, cov=pos_var)\n",
    "\n",
    "        # Setup data and graphing options\n",
    "        pdf_plot_dict = {\n",
    "            \"prior\": {\"pdf\": prior_pdf, \"color\": \"blue\", \"linestyle\": \"-\"},\n",
    "            \"likelihood\": {\"pdf\": mle_pdf, \"color\": \"red\", \"linestyle\": \":\"},\n",
    "            \"posterior\": {\"pdf\": pos_pdf, \"color\": \"black\", \"linestyle\": \"-.\"},\n",
    "        }\n",
    "\n",
    "        # Plot\n",
    "        plot_data(\n",
    "            quantiles,\n",
    "            pdf_plot_dict,\n",
    "            variance_prior,\n",
    "            f\"gauss_infer_1d_prior{variance_prior}_latexified\",\n",
    "        )"
   ]
  },
  {
   "cell_type": "code",
   "execution_count": 5,
   "metadata": {},
   "outputs": [
    {
     "name": "stderr",
     "output_type": "stream",
     "text": [
      "WARNING:absl:No GPU/TPU found, falling back to CPU. (Set TF_CPP_MIN_LOG_LEVEL=0 and rerun for more info.)\n",
      "C:\\Users\\NITISH SHARMA\\.pyenv\\pyenv-win\\versions\\3.9.10\\lib\\site-packages\\probml_utils\\plotting.py:79: UserWarning: set FIG_DIR environment variable to save figures\n",
      "  warnings.warn(\"set FIG_DIR environment variable to save figures\")\n"
     ]
    },
    {
     "data": {
      "image/png": "[encoded data removed]",
      "text/plain": [
       "<Figure size 432x288 with 1 Axes>"
      ]
     },
     "metadata": {
      "needs_background": "light"
     },
     "output_type": "display_data"
    },
    {
     "name": "stderr",
     "output_type": "stream",
     "text": [
      "C:\\Users\\NITISH SHARMA\\.pyenv\\pyenv-win\\versions\\3.9.10\\lib\\site-packages\\probml_utils\\plotting.py:79: UserWarning: set FIG_DIR environment variable to save figures\n",
      "  warnings.warn(\"set FIG_DIR environment variable to save figures\")\n"
     ]
    },
    {
     "data": {
      "image/png": "[encoded data removed]",
      "text/plain": [
       "<Figure size 432x288 with 1 Axes>"
      ]
     },
     "metadata": {
      "needs_background": "light"
     },
     "output_type": "display_data"
    }
   ],
   "source": [
    "generate_PDF()"
   ]
  },
  {
   "cell_type": "code",
   "execution_count": 6,
   "metadata": {},
   "outputs": [
    {
     "data": {
      "application/vnd.jupyter.widget-view+json": {
       "model_id": "2f1374ee19604c58ba591292edf9d1cf",
       "version_major": 2,
       "version_minor": 0
      },
      "text/plain": [
       "interactive(children=(FloatSlider(value=1.0, continuous_update=False, description='prior variance', max=5.0, s…"
      ]
     },
     "metadata": {},
     "output_type": "display_data"
    }
   ],
   "source": [
    "from ipywidgets import Layout, interact\n",
    "import ipywidgets as widgets\n",
    "\n",
    "\n",
    "@interact(\n",
    "    prior_var=widgets.FloatSlider(\n",
    "        description=\"prior variance\",\n",
    "        min=0.0,\n",
    "        max=5.0,\n",
    "        value=1.0,\n",
    "        step=0.1,\n",
    "        style=dict(description_width=\"initial\"),\n",
    "        continuous_update=False,\n",
    "    ),\n",
    "    prior_mean=widgets.FloatSlider(\n",
    "        description=\"prior mean\",\n",
    "        min=0.0,\n",
    "        max=5.0,\n",
    "        value=0.0,\n",
    "        step=0.1,\n",
    "        style=dict(description_width=\"initial\"),\n",
    "        continuous_update=False,\n",
    "    ),\n",
    "    observed_var=widgets.FloatSlider(\n",
    "        description=\"Variance of Observed values\",\n",
    "        min=0.0,\n",
    "        max=5.0,\n",
    "        value=1.0,\n",
    "        step=0.1,\n",
    "        style=dict(description_width=\"initial\"),\n",
    "        layout=Layout(width=\"40%\"),\n",
    "        continuous_update=False,\n",
    "    ),\n",
    ")\n",
    "def update(prior_var, prior_mean, observed_var):\n",
    "    generate_PDF(prior_var=[prior_var], prior_mean=[prior_mean], observed_var=[observed_var])"
   ]
  },
  {
   "cell_type": "code",
   "execution_count": null,
   "metadata": {},
   "outputs": [],
   "source": []
  }
 ],
 "metadata": {
  "kernelspec": {
   "display_name": "pyprobml",
   "language": "python",
   "name": "venv"
  },
  "language_info": {
   "codemirror_mode": {
    "name": "ipython",
    "version": 3
   },
   "file_extension": ".py",
   "mimetype": "text/x-python",
   "name": "python",
   "nbconvert_exporter": "python",
   "pygments_lexer": "ipython3",
   "version": "3.9.10"
  },
  "toc": {
   "base_numbering": 1,
   "nav_menu": {},
   "number_sections": true,
   "sideBar": true,
   "skip_h1_title": false,
   "title_cell": "Table of Contents",
   "title_sidebar": "Contents",
   "toc_cell": false,
   "toc_position": {},
   "toc_section_display": true,
   "toc_window_display": false
  }
 },
 "nbformat": 4,
 "nbformat_minor": 4
}

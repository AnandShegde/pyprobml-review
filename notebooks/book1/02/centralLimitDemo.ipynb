{
 "nbformat": 4,
 "nbformat_minor": 0,
 "metadata": {
  "colab": {
   "name": "centralLimitDemo.ipynb",
   "provenance": [],
   "collapsed_sections": []
  },
  "kernelspec": {
   "name": "python3",
   "display_name": "Python 3"
  },
  "language_info": {
   "name": "python"
  }
 },
 "cells": [
  {
   "cell_type": "markdown",
   "source": [
    "# Central Limit Theorem "
   ],
   "metadata": {
    "id": "H-OhPOi5vOYw"
   }
  },
  {
   "cell_type": "code",
   "execution_count": null,
   "metadata": {
    "id": "hviUehaWifUs"
   },
   "outputs": [],
   "source": [
    "import jax\n",
    "import jax.numpy as jnp\n",
    "import matplotlib.pyplot as plt\n",
    "import seaborn as sns\n",
    "\n",
    "try:\n",
    "    from probml_utils import savefig, latexify\n",
    "except ModuleNotFoundError:\n",
    "    %pip install git+https://github.com/probml/probml-utils.git\n",
    "    from probml_utils import savefig, latexify"
   ]
  },
  {
   "cell_type": "code",
   "source": [
    "latexify(width_scale_factor=2, fig_height=2)"
   ],
   "metadata": {
    "id": "soWNeVQhlKXE"
   },
   "execution_count": null,
   "outputs": []
  },
  {
   "cell_type": "code",
   "source": [
    "def calcMean(keys, N):\n",
    "    # Generates N random numbers from 1 to 5 and calculates their mean.\n",
    "    x = jnp.mean(jax.random.beta(keys, 1, 5, [1, N]))\n",
    "    return x"
   ],
   "metadata": {
    "id": "8qKbn5n2mquU"
   },
   "execution_count": null,
   "outputs": []
  },
  {
   "cell_type": "code",
   "source": [
    "def plot_convolutionHist(mean_list, N, sampleSize, bins):\n",
    "    counts, nbinslocation = jnp.histogram(mean_list, bins=20)\n",
    "    counts = counts / (sampleSize / bins)\n",
    "\n",
    "    plt.figure()\n",
    "    plt.title(f\"N = {N}\")\n",
    "    plt.bar(nbinslocation[:-1], counts, width=0.02, color=\"black\", align=\"edge\")\n",
    "\n",
    "    plt.xticks(jnp.linspace(0, 1, 3))\n",
    "    plt.yticks(jnp.linspace(0, 3, 4))\n",
    "    plt.xlim(0, 1)\n",
    "    plt.ylim(0, 3)\n",
    "    plt.xlabel(\"$bins$\")\n",
    "    plt.ylabel(\"$Frequency$\")\n",
    "    sns.despine()\n",
    "    savefig(f\"clt_N_{N}_latexified\")"
   ],
   "metadata": {
    "id": "75cDaL5BjHkw"
   },
   "execution_count": null,
   "outputs": []
  },
  {
   "cell_type": "code",
   "source": [
    "key = jax.random.PRNGKey(1)\n",
    "keys = jax.random.split(key, num=100000)"
   ],
   "metadata": {
    "id": "rYupguj8aqep"
   },
   "execution_count": null,
   "outputs": []
  },
  {
   "cell_type": "code",
   "source": [
    "sampleSize = 100000\n",
    "bins = 20\n",
    "N_array = [1, 5]\n",
    "for N in N_array:\n",
    "    means = jax.vmap(calcMean, in_axes=(0, None), out_axes=0)\n",
    "    out = means(keys, N)\n",
    "    plot_convolutionHist(out, N, sampleSize, bins)"
   ],
   "metadata": {
    "id": "WQzGCN_ci0jD"
   },
   "execution_count": null,
   "outputs": []
  },
  {
   "cell_type": "code",
   "source": [
    "from ipywidgets import interact\n",
    "\n",
    "\n",
    "@interact(N_value=(1, 10))\n",
    "def generate_random(N_value):\n",
    "    sampleSize = 100000\n",
    "    bins = 20\n",
    "    means = jax.vmap(calcMean, in_axes=(0, None), out_axes=0)\n",
    "    out = means(keys, N_value)\n",
    "    plot_convolutionHist(out, N_value, sampleSize, bins)"
   ],
   "metadata": {
    "id": "APCNtmZQsAS7"
   },
   "execution_count": null,
   "outputs": []
  },
  {
   "cell_type": "code",
   "source": [
    ""
   ],
   "metadata": {
    "id": "VjNDZLJCoqPU"
   },
   "execution_count": null,
   "outputs": []
  }
 ]
}
{
 "nbformat": 4,
 "nbformat_minor": 0,
 "metadata": {
  "colab": {
   "name": "centralLimitDemo.ipynb",
   "provenance": [],
   "collapsed_sections": []
  },
  "kernelspec": {
   "name": "python3",
   "display_name": "Python 3"
  },
  "language_info": {
   "name": "python"
  },
  "widgets": {
   "application/vnd.jupyter.widget-state+json": {
    "318a2c9821a546d3a207c796b5553d24": {
     "model_module": "@jupyter-widgets/controls",
     "model_name": "VBoxModel",
     "model_module_version": "1.5.0",
     "state": {
      "_dom_classes": [
       "widget-interact"
      ],
      "_model_module": "@jupyter-widgets/controls",
      "_model_module_version": "1.5.0",
      "_model_name": "VBoxModel",
      "_view_count": null,
      "_view_module": "@jupyter-widgets/controls",
      "_view_module_version": "1.5.0",
      "_view_name": "VBoxView",
      "box_style": "",
      "children": [
       "IPY_MODEL_e3446ed0479d4f8b945fec7aa234e243",
       "IPY_MODEL_501fd76dbb134e15af5743af7ffbdc9d"
      ],
      "layout": "IPY_MODEL_dcf872a7602b45f4804605753b91498d"
     }
    },
    "e3446ed0479d4f8b945fec7aa234e243": {
     "model_module": "@jupyter-widgets/controls",
     "model_name": "IntSliderModel",
     "model_module_version": "1.5.0",
     "state": {
      "_dom_classes": [],
      "_model_module": "@jupyter-widgets/controls",
      "_model_module_version": "1.5.0",
      "_model_name": "IntSliderModel",
      "_view_count": null,
      "_view_module": "@jupyter-widgets/controls",
      "_view_module_version": "1.5.0",
      "_view_name": "IntSliderView",
      "continuous_update": true,
      "description": "N_value",
      "description_tooltip": null,
      "disabled": false,
      "layout": "IPY_MODEL_d31eec78cc0a4773841ea1fc7f6d9a49",
      "max": 10,
      "min": 1,
      "orientation": "horizontal",
      "readout": true,
      "readout_format": "d",
      "step": 1,
      "style": "IPY_MODEL_cd535422938b45d580952f9792c7b5a9",
      "value": 5
     }
    },
    "501fd76dbb134e15af5743af7ffbdc9d": {
     "model_module": "@jupyter-widgets/output",
     "model_name": "OutputModel",
     "model_module_version": "1.0.0",
     "state": {
      "_dom_classes": [],
      "_model_module": "@jupyter-widgets/output",
      "_model_module_version": "1.0.0",
      "_model_name": "OutputModel",
      "_view_count": null,
      "_view_module": "@jupyter-widgets/output",
      "_view_module_version": "1.0.0",
      "_view_name": "OutputView",
      "layout": "IPY_MODEL_133a6253a143487688e1b2cf9c759554",
      "msg_id": "",
      "outputs": [
       {
        "output_type": "stream",
        "name": "stderr",
        "text": [
         "/usr/local/lib/python3.7/dist-packages/probml_utils/plotting.py:79: UserWarning: set FIG_DIR environment variable to save figures\n",
         "  warnings.warn(\"set FIG_DIR environment variable to save figures\")\n"
        ]
       },
       {
        "output_type": "display_data",
        "data": {
         "text/plain": "<Figure size 288x288 with 1 Axes>",
         "image/png": "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\n"
        },
        "metadata": {
         "needs_background": "light"
        }
       }
      ]
     }
    },
    "dcf872a7602b45f4804605753b91498d": {
     "model_module": "@jupyter-widgets/base",
     "model_name": "LayoutModel",
     "model_module_version": "1.2.0",
     "state": {
      "_model_module": "@jupyter-widgets/base",
      "_model_module_version": "1.2.0",
      "_model_name": "LayoutModel",
      "_view_count": null,
      "_view_module": "@jupyter-widgets/base",
      "_view_module_version": "1.2.0",
      "_view_name": "LayoutView",
      "align_content": null,
      "align_items": null,
      "align_self": null,
      "border": null,
      "bottom": null,
      "display": null,
      "flex": null,
      "flex_flow": null,
      "grid_area": null,
      "grid_auto_columns": null,
      "grid_auto_flow": null,
      "grid_auto_rows": null,
      "grid_column": null,
      "grid_gap": null,
      "grid_row": null,
      "grid_template_areas": null,
      "grid_template_columns": null,
      "grid_template_rows": null,
      "height": null,
      "justify_content": null,
      "justify_items": null,
      "left": null,
      "margin": null,
      "max_height": null,
      "max_width": null,
      "min_height": null,
      "min_width": null,
      "object_fit": null,
      "object_position": null,
      "order": null,
      "overflow": null,
      "overflow_x": null,
      "overflow_y": null,
      "padding": null,
      "right": null,
      "top": null,
      "visibility": null,
      "width": null
     }
    },
    "d31eec78cc0a4773841ea1fc7f6d9a49": {
     "model_module": "@jupyter-widgets/base",
     "model_name": "LayoutModel",
     "model_module_version": "1.2.0",
     "state": {
      "_model_module": "@jupyter-widgets/base",
      "_model_module_version": "1.2.0",
      "_model_name": "LayoutModel",
      "_view_count": null,
      "_view_module": "@jupyter-widgets/base",
      "_view_module_version": "1.2.0",
      "_view_name": "LayoutView",
      "align_content": null,
      "align_items": null,
      "align_self": null,
      "border": null,
      "bottom": null,
      "display": null,
      "flex": null,
      "flex_flow": null,
      "grid_area": null,
      "grid_auto_columns": null,
      "grid_auto_flow": null,
      "grid_auto_rows": null,
      "grid_column": null,
      "grid_gap": null,
      "grid_row": null,
      "grid_template_areas": null,
      "grid_template_columns": null,
      "grid_template_rows": null,
      "height": null,
      "justify_content": null,
      "justify_items": null,
      "left": null,
      "margin": null,
      "max_height": null,
      "max_width": null,
      "min_height": null,
      "min_width": null,
      "object_fit": null,
      "object_position": null,
      "order": null,
      "overflow": null,
      "overflow_x": null,
      "overflow_y": null,
      "padding": null,
      "right": null,
      "top": null,
      "visibility": null,
      "width": null
     }
    },
    "cd535422938b45d580952f9792c7b5a9": {
     "model_module": "@jupyter-widgets/controls",
     "model_name": "SliderStyleModel",
     "model_module_version": "1.5.0",
     "state": {
      "_model_module": "@jupyter-widgets/controls",
      "_model_module_version": "1.5.0",
      "_model_name": "SliderStyleModel",
      "_view_count": null,
      "_view_module": "@jupyter-widgets/base",
      "_view_module_version": "1.2.0",
      "_view_name": "StyleView",
      "description_width": "",
      "handle_color": null
     }
    },
    "133a6253a143487688e1b2cf9c759554": {
     "model_module": "@jupyter-widgets/base",
     "model_name": "LayoutModel",
     "model_module_version": "1.2.0",
     "state": {
      "_model_module": "@jupyter-widgets/base",
      "_model_module_version": "1.2.0",
      "_model_name": "LayoutModel",
      "_view_count": null,
      "_view_module": "@jupyter-widgets/base",
      "_view_module_version": "1.2.0",
      "_view_name": "LayoutView",
      "align_content": null,
      "align_items": null,
      "align_self": null,
      "border": null,
      "bottom": null,
      "display": null,
      "flex": null,
      "flex_flow": null,
      "grid_area": null,
      "grid_auto_columns": null,
      "grid_auto_flow": null,
      "grid_auto_rows": null,
      "grid_column": null,
      "grid_gap": null,
      "grid_row": null,
      "grid_template_areas": null,
      "grid_template_columns": null,
      "grid_template_rows": null,
      "height": null,
      "justify_content": null,
      "justify_items": null,
      "left": null,
      "margin": null,
      "max_height": null,
      "max_width": null,
      "min_height": null,
      "min_width": null,
      "object_fit": null,
      "object_position": null,
      "order": null,
      "overflow": null,
      "overflow_x": null,
      "overflow_y": null,
      "padding": null,
      "right": null,
      "top": null,
      "visibility": null,
      "width": null
     }
    }
   }
  }
 },
 "cells": [
  {
   "cell_type": "markdown",
   "source": [
    "# Central Limit Theorem "
   ],
   "metadata": {
    "id": "H-OhPOi5vOYw"
   }
  },
  {
   "cell_type": "code",
   "execution_count": 1,
   "metadata": {
    "id": "hviUehaWifUs",
    "colab": {
     "base_uri": "https://localhost:8080/"
    },
    "outputId": "420ec4c4-3f46-4020-bfb7-69e8a0b0bc52"
   },
   "outputs": [
    {
     "output_type": "stream",
     "name": "stdout",
     "text": [
      "Collecting git+https://github.com/probml/probml-utils.git\n",
      "  Cloning https://github.com/probml/probml-utils.git to /tmp/pip-req-build-o0grtk2w\n",
      "  Running command git clone -q https://github.com/probml/probml-utils.git /tmp/pip-req-build-o0grtk2w\n",
      "  Installing build dependencies ... \u001b[?25l\u001b[?25hdone\n",
      "  Getting requirements to build wheel ... \u001b[?25l\u001b[?25hdone\n",
      "    Preparing wheel metadata ... \u001b[?25l\u001b[?25hdone\n",
      "Requirement already satisfied: graphviz in /usr/local/lib/python3.7/dist-packages (from probml-utils==0.1.dev48+gb130363) (0.10.1)\n",
      "Requirement already satisfied: numpy in /usr/local/lib/python3.7/dist-packages (from probml-utils==0.1.dev48+gb130363) (1.21.6)\n",
      "Requirement already satisfied: scikit-learn in /usr/local/lib/python3.7/dist-packages (from probml-utils==0.1.dev48+gb130363) (1.0.2)\n",
      "Requirement already satisfied: firebase-admin in /usr/local/lib/python3.7/dist-packages (from probml-utils==0.1.dev48+gb130363) (4.4.0)\n",
      "Requirement already satisfied: jaxlib in /usr/local/lib/python3.7/dist-packages (from probml-utils==0.1.dev48+gb130363) (0.3.7+cuda11.cudnn805)\n",
      "Requirement already satisfied: matplotlib in /usr/local/lib/python3.7/dist-packages (from probml-utils==0.1.dev48+gb130363) (3.2.2)\n",
      "Requirement already satisfied: scipy in /usr/local/lib/python3.7/dist-packages (from probml-utils==0.1.dev48+gb130363) (1.4.1)\n",
      "Requirement already satisfied: pandas in /usr/local/lib/python3.7/dist-packages (from probml-utils==0.1.dev48+gb130363) (1.3.5)\n",
      "Requirement already satisfied: regex in /usr/local/lib/python3.7/dist-packages (from probml-utils==0.1.dev48+gb130363) (2019.12.20)\n",
      "Collecting distrax\n",
      "  Downloading distrax-0.1.2-py3-none-any.whl (272 kB)\n",
      "\u001b[K     |████████████████████████████████| 272 kB 5.0 MB/s \n",
      "\u001b[?25hRequirement already satisfied: jupyter in /usr/local/lib/python3.7/dist-packages (from probml-utils==0.1.dev48+gb130363) (1.0.0)\n",
      "Requirement already satisfied: jax in /usr/local/lib/python3.7/dist-packages (from probml-utils==0.1.dev48+gb130363) (0.3.8)\n",
      "Collecting TexSoup\n",
      "  Downloading TexSoup-0.3.1.tar.gz (26 kB)\n",
      "Collecting chex>=0.0.7\n",
      "  Downloading chex-0.1.3-py3-none-any.whl (72 kB)\n",
      "\u001b[K     |████████████████████████████████| 72 kB 502 kB/s \n",
      "\u001b[?25hRequirement already satisfied: tensorflow-probability>=0.15.0 in /usr/local/lib/python3.7/dist-packages (from distrax->probml-utils==0.1.dev48+gb130363) (0.16.0)\n",
      "Requirement already satisfied: absl-py>=0.9.0 in /usr/local/lib/python3.7/dist-packages (from distrax->probml-utils==0.1.dev48+gb130363) (1.0.0)\n",
      "Requirement already satisfied: six in /usr/local/lib/python3.7/dist-packages (from absl-py>=0.9.0->distrax->probml-utils==0.1.dev48+gb130363) (1.15.0)\n",
      "Requirement already satisfied: toolz>=0.9.0 in /usr/local/lib/python3.7/dist-packages (from chex>=0.0.7->distrax->probml-utils==0.1.dev48+gb130363) (0.11.2)\n",
      "Requirement already satisfied: dm-tree>=0.1.5 in /usr/local/lib/python3.7/dist-packages (from chex>=0.0.7->distrax->probml-utils==0.1.dev48+gb130363) (0.1.7)\n",
      "Requirement already satisfied: opt-einsum in /usr/local/lib/python3.7/dist-packages (from jax->probml-utils==0.1.dev48+gb130363) (3.3.0)\n",
      "Requirement already satisfied: typing-extensions in /usr/local/lib/python3.7/dist-packages (from jax->probml-utils==0.1.dev48+gb130363) (4.2.0)\n",
      "Requirement already satisfied: flatbuffers<3.0,>=1.12 in /usr/local/lib/python3.7/dist-packages (from jaxlib->probml-utils==0.1.dev48+gb130363) (2.0)\n",
      "Requirement already satisfied: decorator in /usr/local/lib/python3.7/dist-packages (from tensorflow-probability>=0.15.0->distrax->probml-utils==0.1.dev48+gb130363) (4.4.2)\n",
      "Requirement already satisfied: gast>=0.3.2 in /usr/local/lib/python3.7/dist-packages (from tensorflow-probability>=0.15.0->distrax->probml-utils==0.1.dev48+gb130363) (0.5.3)\n",
      "Requirement already satisfied: cloudpickle>=1.3 in /usr/local/lib/python3.7/dist-packages (from tensorflow-probability>=0.15.0->distrax->probml-utils==0.1.dev48+gb130363) (1.3.0)\n",
      "Requirement already satisfied: google-cloud-storage>=1.18.0 in /usr/local/lib/python3.7/dist-packages (from firebase-admin->probml-utils==0.1.dev48+gb130363) (1.18.1)\n",
      "Requirement already satisfied: cachecontrol>=0.12.6 in /usr/local/lib/python3.7/dist-packages (from firebase-admin->probml-utils==0.1.dev48+gb130363) (0.12.11)\n",
      "Requirement already satisfied: google-cloud-firestore>=1.4.0 in /usr/local/lib/python3.7/dist-packages (from firebase-admin->probml-utils==0.1.dev48+gb130363) (1.7.0)\n",
      "Requirement already satisfied: google-api-python-client>=1.7.8 in /usr/local/lib/python3.7/dist-packages (from firebase-admin->probml-utils==0.1.dev48+gb130363) (1.12.11)\n",
      "Requirement already satisfied: google-api-core[grpc]<2.0.0dev,>=1.14.0 in /usr/local/lib/python3.7/dist-packages (from firebase-admin->probml-utils==0.1.dev48+gb130363) (1.31.5)\n",
      "Requirement already satisfied: requests in /usr/local/lib/python3.7/dist-packages (from cachecontrol>=0.12.6->firebase-admin->probml-utils==0.1.dev48+gb130363) (2.23.0)\n",
      "Requirement already satisfied: msgpack>=0.5.2 in /usr/local/lib/python3.7/dist-packages (from cachecontrol>=0.12.6->firebase-admin->probml-utils==0.1.dev48+gb130363) (1.0.3)\n",
      "Requirement already satisfied: pytz in /usr/local/lib/python3.7/dist-packages (from google-api-core[grpc]<2.0.0dev,>=1.14.0->firebase-admin->probml-utils==0.1.dev48+gb130363) (2022.1)\n",
      "Requirement already satisfied: setuptools>=40.3.0 in /usr/local/lib/python3.7/dist-packages (from google-api-core[grpc]<2.0.0dev,>=1.14.0->firebase-admin->probml-utils==0.1.dev48+gb130363) (57.4.0)\n",
      "Requirement already satisfied: protobuf>=3.12.0 in /usr/local/lib/python3.7/dist-packages (from google-api-core[grpc]<2.0.0dev,>=1.14.0->firebase-admin->probml-utils==0.1.dev48+gb130363) (3.17.3)\n",
      "Requirement already satisfied: google-auth<2.0dev,>=1.25.0 in /usr/local/lib/python3.7/dist-packages (from google-api-core[grpc]<2.0.0dev,>=1.14.0->firebase-admin->probml-utils==0.1.dev48+gb130363) (1.35.0)\n",
      "Requirement already satisfied: googleapis-common-protos<2.0dev,>=1.6.0 in /usr/local/lib/python3.7/dist-packages (from google-api-core[grpc]<2.0.0dev,>=1.14.0->firebase-admin->probml-utils==0.1.dev48+gb130363) (1.56.0)\n",
      "Requirement already satisfied: packaging>=14.3 in /usr/local/lib/python3.7/dist-packages (from google-api-core[grpc]<2.0.0dev,>=1.14.0->firebase-admin->probml-utils==0.1.dev48+gb130363) (21.3)\n",
      "Requirement already satisfied: grpcio<2.0dev,>=1.29.0 in /usr/local/lib/python3.7/dist-packages (from google-api-core[grpc]<2.0.0dev,>=1.14.0->firebase-admin->probml-utils==0.1.dev48+gb130363) (1.44.0)\n",
      "Requirement already satisfied: google-auth-httplib2>=0.0.3 in /usr/local/lib/python3.7/dist-packages (from google-api-python-client>=1.7.8->firebase-admin->probml-utils==0.1.dev48+gb130363) (0.0.4)\n",
      "Requirement already satisfied: uritemplate<4dev,>=3.0.0 in /usr/local/lib/python3.7/dist-packages (from google-api-python-client>=1.7.8->firebase-admin->probml-utils==0.1.dev48+gb130363) (3.0.1)\n",
      "Requirement already satisfied: httplib2<1dev,>=0.15.0 in /usr/local/lib/python3.7/dist-packages (from google-api-python-client>=1.7.8->firebase-admin->probml-utils==0.1.dev48+gb130363) (0.17.4)\n",
      "Requirement already satisfied: pyasn1-modules>=0.2.1 in /usr/local/lib/python3.7/dist-packages (from google-auth<2.0dev,>=1.25.0->google-api-core[grpc]<2.0.0dev,>=1.14.0->firebase-admin->probml-utils==0.1.dev48+gb130363) (0.2.8)\n",
      "Requirement already satisfied: rsa<5,>=3.1.4 in /usr/local/lib/python3.7/dist-packages (from google-auth<2.0dev,>=1.25.0->google-api-core[grpc]<2.0.0dev,>=1.14.0->firebase-admin->probml-utils==0.1.dev48+gb130363) (4.8)\n",
      "Requirement already satisfied: cachetools<5.0,>=2.0.0 in /usr/local/lib/python3.7/dist-packages (from google-auth<2.0dev,>=1.25.0->google-api-core[grpc]<2.0.0dev,>=1.14.0->firebase-admin->probml-utils==0.1.dev48+gb130363) (4.2.4)\n",
      "Requirement already satisfied: google-cloud-core<2.0dev,>=1.0.3 in /usr/local/lib/python3.7/dist-packages (from google-cloud-firestore>=1.4.0->firebase-admin->probml-utils==0.1.dev48+gb130363) (1.0.3)\n",
      "Requirement already satisfied: google-resumable-media<0.5.0dev,>=0.3.1 in /usr/local/lib/python3.7/dist-packages (from google-cloud-storage>=1.18.0->firebase-admin->probml-utils==0.1.dev48+gb130363) (0.4.1)\n",
      "Requirement already satisfied: pyparsing!=3.0.5,>=2.0.2 in /usr/local/lib/python3.7/dist-packages (from packaging>=14.3->google-api-core[grpc]<2.0.0dev,>=1.14.0->firebase-admin->probml-utils==0.1.dev48+gb130363) (3.0.8)\n",
      "Requirement already satisfied: pyasn1<0.5.0,>=0.4.6 in /usr/local/lib/python3.7/dist-packages (from pyasn1-modules>=0.2.1->google-auth<2.0dev,>=1.25.0->google-api-core[grpc]<2.0.0dev,>=1.14.0->firebase-admin->probml-utils==0.1.dev48+gb130363) (0.4.8)\n",
      "Requirement already satisfied: certifi>=2017.4.17 in /usr/local/lib/python3.7/dist-packages (from requests->cachecontrol>=0.12.6->firebase-admin->probml-utils==0.1.dev48+gb130363) (2021.10.8)\n",
      "Requirement already satisfied: urllib3!=1.25.0,!=1.25.1,<1.26,>=1.21.1 in /usr/local/lib/python3.7/dist-packages (from requests->cachecontrol>=0.12.6->firebase-admin->probml-utils==0.1.dev48+gb130363) (1.24.3)\n",
      "Requirement already satisfied: idna<3,>=2.5 in /usr/local/lib/python3.7/dist-packages (from requests->cachecontrol>=0.12.6->firebase-admin->probml-utils==0.1.dev48+gb130363) (2.10)\n",
      "Requirement already satisfied: chardet<4,>=3.0.2 in /usr/local/lib/python3.7/dist-packages (from requests->cachecontrol>=0.12.6->firebase-admin->probml-utils==0.1.dev48+gb130363) (3.0.4)\n",
      "Requirement already satisfied: notebook in /usr/local/lib/python3.7/dist-packages (from jupyter->probml-utils==0.1.dev48+gb130363) (5.3.1)\n",
      "Requirement already satisfied: jupyter-console in /usr/local/lib/python3.7/dist-packages (from jupyter->probml-utils==0.1.dev48+gb130363) (5.2.0)\n",
      "Requirement already satisfied: nbconvert in /usr/local/lib/python3.7/dist-packages (from jupyter->probml-utils==0.1.dev48+gb130363) (5.6.1)\n",
      "Requirement already satisfied: ipykernel in /usr/local/lib/python3.7/dist-packages (from jupyter->probml-utils==0.1.dev48+gb130363) (4.10.1)\n",
      "Requirement already satisfied: ipywidgets in /usr/local/lib/python3.7/dist-packages (from jupyter->probml-utils==0.1.dev48+gb130363) (7.7.0)\n",
      "Requirement already satisfied: qtconsole in /usr/local/lib/python3.7/dist-packages (from jupyter->probml-utils==0.1.dev48+gb130363) (5.3.0)\n",
      "Requirement already satisfied: ipython>=4.0.0 in /usr/local/lib/python3.7/dist-packages (from ipykernel->jupyter->probml-utils==0.1.dev48+gb130363) (5.5.0)\n",
      "Requirement already satisfied: tornado>=4.0 in /usr/local/lib/python3.7/dist-packages (from ipykernel->jupyter->probml-utils==0.1.dev48+gb130363) (5.1.1)\n",
      "Requirement already satisfied: traitlets>=4.1.0 in /usr/local/lib/python3.7/dist-packages (from ipykernel->jupyter->probml-utils==0.1.dev48+gb130363) (5.1.1)\n",
      "Requirement already satisfied: jupyter-client in /usr/local/lib/python3.7/dist-packages (from ipykernel->jupyter->probml-utils==0.1.dev48+gb130363) (5.3.5)\n",
      "Requirement already satisfied: pickleshare in /usr/local/lib/python3.7/dist-packages (from ipython>=4.0.0->ipykernel->jupyter->probml-utils==0.1.dev48+gb130363) (0.7.5)\n",
      "Requirement already satisfied: pexpect in /usr/local/lib/python3.7/dist-packages (from ipython>=4.0.0->ipykernel->jupyter->probml-utils==0.1.dev48+gb130363) (4.8.0)\n",
      "Requirement already satisfied: pygments in /usr/local/lib/python3.7/dist-packages (from ipython>=4.0.0->ipykernel->jupyter->probml-utils==0.1.dev48+gb130363) (2.6.1)\n",
      "Requirement already satisfied: simplegeneric>0.8 in /usr/local/lib/python3.7/dist-packages (from ipython>=4.0.0->ipykernel->jupyter->probml-utils==0.1.dev48+gb130363) (0.8.1)\n",
      "Requirement already satisfied: prompt-toolkit<2.0.0,>=1.0.4 in /usr/local/lib/python3.7/dist-packages (from ipython>=4.0.0->ipykernel->jupyter->probml-utils==0.1.dev48+gb130363) (1.0.18)\n",
      "Requirement already satisfied: wcwidth in /usr/local/lib/python3.7/dist-packages (from prompt-toolkit<2.0.0,>=1.0.4->ipython>=4.0.0->ipykernel->jupyter->probml-utils==0.1.dev48+gb130363) (0.2.5)\n",
      "Requirement already satisfied: jupyterlab-widgets>=1.0.0 in /usr/local/lib/python3.7/dist-packages (from ipywidgets->jupyter->probml-utils==0.1.dev48+gb130363) (1.1.0)\n",
      "Requirement already satisfied: ipython-genutils~=0.2.0 in /usr/local/lib/python3.7/dist-packages (from ipywidgets->jupyter->probml-utils==0.1.dev48+gb130363) (0.2.0)\n",
      "Requirement already satisfied: nbformat>=4.2.0 in /usr/local/lib/python3.7/dist-packages (from ipywidgets->jupyter->probml-utils==0.1.dev48+gb130363) (5.3.0)\n",
      "Requirement already satisfied: widgetsnbextension~=3.6.0 in /usr/local/lib/python3.7/dist-packages (from ipywidgets->jupyter->probml-utils==0.1.dev48+gb130363) (3.6.0)\n",
      "Requirement already satisfied: fastjsonschema in /usr/local/lib/python3.7/dist-packages (from nbformat>=4.2.0->ipywidgets->jupyter->probml-utils==0.1.dev48+gb130363) (2.15.3)\n",
      "Requirement already satisfied: jsonschema>=2.6 in /usr/local/lib/python3.7/dist-packages (from nbformat>=4.2.0->ipywidgets->jupyter->probml-utils==0.1.dev48+gb130363) (4.3.3)\n",
      "Requirement already satisfied: jupyter-core in /usr/local/lib/python3.7/dist-packages (from nbformat>=4.2.0->ipywidgets->jupyter->probml-utils==0.1.dev48+gb130363) (4.10.0)\n",
      "Requirement already satisfied: importlib-resources>=1.4.0 in /usr/local/lib/python3.7/dist-packages (from jsonschema>=2.6->nbformat>=4.2.0->ipywidgets->jupyter->probml-utils==0.1.dev48+gb130363) (5.7.1)\n",
      "Requirement already satisfied: pyrsistent!=0.17.0,!=0.17.1,!=0.17.2,>=0.14.0 in /usr/local/lib/python3.7/dist-packages (from jsonschema>=2.6->nbformat>=4.2.0->ipywidgets->jupyter->probml-utils==0.1.dev48+gb130363) (0.18.1)\n",
      "Requirement already satisfied: attrs>=17.4.0 in /usr/local/lib/python3.7/dist-packages (from jsonschema>=2.6->nbformat>=4.2.0->ipywidgets->jupyter->probml-utils==0.1.dev48+gb130363) (21.4.0)\n",
      "Requirement already satisfied: importlib-metadata in /usr/local/lib/python3.7/dist-packages (from jsonschema>=2.6->nbformat>=4.2.0->ipywidgets->jupyter->probml-utils==0.1.dev48+gb130363) (4.11.3)\n",
      "Requirement already satisfied: zipp>=3.1.0 in /usr/local/lib/python3.7/dist-packages (from importlib-resources>=1.4.0->jsonschema>=2.6->nbformat>=4.2.0->ipywidgets->jupyter->probml-utils==0.1.dev48+gb130363) (3.8.0)\n",
      "Requirement already satisfied: jinja2 in /usr/local/lib/python3.7/dist-packages (from notebook->jupyter->probml-utils==0.1.dev48+gb130363) (2.11.3)\n",
      "Requirement already satisfied: terminado>=0.8.1 in /usr/local/lib/python3.7/dist-packages (from notebook->jupyter->probml-utils==0.1.dev48+gb130363) (0.13.3)\n",
      "Requirement already satisfied: Send2Trash in /usr/local/lib/python3.7/dist-packages (from notebook->jupyter->probml-utils==0.1.dev48+gb130363) (1.8.0)\n",
      "Requirement already satisfied: pyzmq>=13 in /usr/local/lib/python3.7/dist-packages (from jupyter-client->ipykernel->jupyter->probml-utils==0.1.dev48+gb130363) (22.3.0)\n",
      "Requirement already satisfied: python-dateutil>=2.1 in /usr/local/lib/python3.7/dist-packages (from jupyter-client->ipykernel->jupyter->probml-utils==0.1.dev48+gb130363) (2.8.2)\n",
      "Requirement already satisfied: ptyprocess in /usr/local/lib/python3.7/dist-packages (from terminado>=0.8.1->notebook->jupyter->probml-utils==0.1.dev48+gb130363) (0.7.0)\n",
      "Requirement already satisfied: MarkupSafe>=0.23 in /usr/local/lib/python3.7/dist-packages (from jinja2->notebook->jupyter->probml-utils==0.1.dev48+gb130363) (2.0.1)\n",
      "Requirement already satisfied: cycler>=0.10 in /usr/local/lib/python3.7/dist-packages (from matplotlib->probml-utils==0.1.dev48+gb130363) (0.11.0)\n",
      "Requirement already satisfied: kiwisolver>=1.0.1 in /usr/local/lib/python3.7/dist-packages (from matplotlib->probml-utils==0.1.dev48+gb130363) (1.4.2)\n",
      "Requirement already satisfied: entrypoints>=0.2.2 in /usr/local/lib/python3.7/dist-packages (from nbconvert->jupyter->probml-utils==0.1.dev48+gb130363) (0.4)\n",
      "Requirement already satisfied: mistune<2,>=0.8.1 in /usr/local/lib/python3.7/dist-packages (from nbconvert->jupyter->probml-utils==0.1.dev48+gb130363) (0.8.4)\n",
      "Requirement already satisfied: defusedxml in /usr/local/lib/python3.7/dist-packages (from nbconvert->jupyter->probml-utils==0.1.dev48+gb130363) (0.7.1)\n",
      "Requirement already satisfied: bleach in /usr/local/lib/python3.7/dist-packages (from nbconvert->jupyter->probml-utils==0.1.dev48+gb130363) (5.0.0)\n",
      "Requirement already satisfied: pandocfilters>=1.4.1 in /usr/local/lib/python3.7/dist-packages (from nbconvert->jupyter->probml-utils==0.1.dev48+gb130363) (1.5.0)\n",
      "Requirement already satisfied: testpath in /usr/local/lib/python3.7/dist-packages (from nbconvert->jupyter->probml-utils==0.1.dev48+gb130363) (0.6.0)\n",
      "Requirement already satisfied: webencodings in /usr/local/lib/python3.7/dist-packages (from bleach->nbconvert->jupyter->probml-utils==0.1.dev48+gb130363) (0.5.1)\n",
      "Requirement already satisfied: qtpy>=2.0.1 in /usr/local/lib/python3.7/dist-packages (from qtconsole->jupyter->probml-utils==0.1.dev48+gb130363) (2.1.0)\n",
      "Requirement already satisfied: threadpoolctl>=2.0.0 in /usr/local/lib/python3.7/dist-packages (from scikit-learn->probml-utils==0.1.dev48+gb130363) (3.1.0)\n",
      "Requirement already satisfied: joblib>=0.11 in /usr/local/lib/python3.7/dist-packages (from scikit-learn->probml-utils==0.1.dev48+gb130363) (1.1.0)\n",
      "Building wheels for collected packages: probml-utils, TexSoup\n",
      "  Building wheel for probml-utils (PEP 517) ... \u001b[?25l\u001b[?25hdone\n",
      "  Created wheel for probml-utils: filename=probml_utils-0.1.dev48+gb130363-py3-none-any.whl size=32273 sha256=3b32c5e14abe51ad5447fe274ffcd27e0c8fcb0260505869f1aba17269294785\n",
      "  Stored in directory: /tmp/pip-ephem-wheel-cache-0qx5il5e/wheels/37/8f/cb/b845cd5de3d7f648717815f9c27bec49975bf58637a97fa6be\n",
      "  Building wheel for TexSoup (setup.py) ... \u001b[?25l\u001b[?25hdone\n",
      "  Created wheel for TexSoup: filename=TexSoup-0.3.1-py3-none-any.whl size=27666 sha256=a99a575737be5823b128d857fe91b9bffa87dcd09341340482c1a385ea7f1867\n",
      "  Stored in directory: /root/.cache/pip/wheels/2b/8e/c6/7ee3f9f9776fd18c0ccb04492902ed42225b6dfab3c68f14c0\n",
      "Successfully built probml-utils TexSoup\n",
      "Installing collected packages: chex, TexSoup, distrax, probml-utils\n",
      "Successfully installed TexSoup-0.3.1 chex-0.1.3 distrax-0.1.2 probml-utils-0.1.dev48+gb130363\n"
     ]
    }
   ],
   "source": [
    "import jax\n",
    "import jax.numpy as jnp\n",
    "import matplotlib.pyplot as plt\n",
    "import seaborn as sns\n",
    "\n",
    "try:\n",
    "    from probml_utils import savefig, latexify\n",
    "except ModuleNotFoundError:\n",
    "    %pip install git+https://github.com/probml/probml-utils.git\n",
    "    from probml_utils import savefig, latexify"
   ]
  },
  {
   "cell_type": "code",
   "source": [
    "latexify(width_scale_factor=2, fig_height=2)"
   ],
   "metadata": {
    "colab": {
     "base_uri": "https://localhost:8080/"
    },
    "id": "soWNeVQhlKXE",
    "outputId": "74c86253-505f-4827-9ab1-d316705c7916"
   },
   "execution_count": 2,
   "outputs": [
    {
     "output_type": "stream",
     "name": "stderr",
     "text": [
      "/usr/local/lib/python3.7/dist-packages/probml_utils/plotting.py:26: UserWarning: LATEXIFY environment variable not set, not latexifying\n",
      "  warnings.warn(\"LATEXIFY environment variable not set, not latexifying\")\n"
     ]
    }
   ]
  },
  {
   "cell_type": "code",
   "source": [
    "key = jax.random.PRNGKey(1)"
   ],
   "metadata": {
    "id": "ZkL6fqSmrzki",
    "colab": {
     "base_uri": "https://localhost:8080/"
    },
    "outputId": "b29aa472-92b1-4ce1-c93a-dbcd81077d88"
   },
   "execution_count": 3,
   "outputs": [
    {
     "output_type": "stream",
     "name": "stderr",
     "text": [
      "WARNING:absl:No GPU/TPU found, falling back to CPU. (Set TF_CPP_MIN_LOG_LEVEL=0 and rerun for more info.)\n"
     ]
    }
   ]
  },
  {
   "cell_type": "code",
   "source": [
    "def convolutionHist(N, sampleSize, bins):\n",
    "    # Generating 1, 5 random numbers from 1 to 5\n",
    "    # taking their mean and appending it to list means.\n",
    "    means = []\n",
    "    for j in N:\n",
    "        # Generating seed so that we can get same result\n",
    "        # every time the loop is run...\n",
    "        x = jnp.mean(jax.random.beta(key, 1, 5, [sampleSize, j]), axis=1)\n",
    "        means.append(x)\n",
    "\n",
    "    return means"
   ],
   "metadata": {
    "id": "KX3ST9vnjEqN"
   },
   "execution_count": 4,
   "outputs": []
  },
  {
   "cell_type": "code",
   "source": [
    "def plot_convolutionHist(means, N, sampleSize, bins):\n",
    "    for i, mean_ in zip(N, means):\n",
    "        counts, nbinslocation = jnp.histogram(mean_, bins=20)\n",
    "\n",
    "        counts = counts / (sampleSize / bins)\n",
    "\n",
    "        plt.figure()\n",
    "        plt.title(f\"N = {i}\")\n",
    "        plt.bar(nbinslocation[:-1], counts, width=0.02, color=\"black\", align=\"edge\")\n",
    "\n",
    "        plt.xticks(jnp.linspace(0, 1, 3))\n",
    "        plt.yticks(jnp.linspace(0, 3, 4))\n",
    "        plt.xlim(0, 1)\n",
    "        plt.ylim(0, 3)\n",
    "        plt.xlabel(\"$x$\")\n",
    "        plt.ylabel(\"$mean$\")\n",
    "        sns.despine()\n",
    "        savefig(f\"clt_N_{i}_latexified\")"
   ],
   "metadata": {
    "id": "75cDaL5BjHkw"
   },
   "execution_count": 18,
   "outputs": []
  },
  {
   "cell_type": "code",
   "source": [
    "samples = 100000\n",
    "bins = 20\n",
    "N = [1, 5]\n",
    "means = convolutionHist(N, samples, bins)\n",
    "plot_convolutionHist(means, N, samples, bins)"
   ],
   "metadata": {
    "colab": {
     "base_uri": "https://localhost:8080/",
     "height": 608
    },
    "id": "WQzGCN_ci0jD",
    "outputId": "b04e9464-043e-4092-fad6-aaf329d2e638"
   },
   "execution_count": 19,
   "outputs": [
    {
     "output_type": "stream",
     "name": "stderr",
     "text": [
      "/usr/local/lib/python3.7/dist-packages/probml_utils/plotting.py:79: UserWarning: set FIG_DIR environment variable to save figures\n",
      "  warnings.warn(\"set FIG_DIR environment variable to save figures\")\n"
     ]
    },
    {
     "output_type": "display_data",
     "data": {
      "text/plain": [
       "<Figure size 288x288 with 1 Axes>"
      ],
      "image/png": "[encoded data removed]"
     },
     "metadata": {
      "needs_background": "light"
     }
    },
    {
     "output_type": "display_data",
     "data": {
      "text/plain": [
       "<Figure size 288x288 with 1 Axes>"
      ],
      "image/png": "[encoded data removed]"
     },
     "metadata": {
      "needs_background": "light"
     }
    }
   ]
  },
  {
   "cell_type": "code",
   "source": [
    "from ipywidgets import interact\n",
    "\n",
    "\n",
    "@interact(N_value=(1, 10))\n",
    "def generate_random(N_value):\n",
    "    samples = 100000\n",
    "    bins = 20\n",
    "    means = convolutionHist([N_value], samples, bins)\n",
    "    plot_convolutionHist(means, [N_value], samples, bins)"
   ],
   "metadata": {
    "colab": {
     "base_uri": "https://localhost:8080/",
     "height": 362,
     "referenced_widgets": [
      "318a2c9821a546d3a207c796b5553d24",
      "e3446ed0479d4f8b945fec7aa234e243",
      "501fd76dbb134e15af5743af7ffbdc9d",
      "dcf872a7602b45f4804605753b91498d",
      "d31eec78cc0a4773841ea1fc7f6d9a49",
      "cd535422938b45d580952f9792c7b5a9",
      "133a6253a143487688e1b2cf9c759554"
     ]
    },
    "id": "APCNtmZQsAS7",
    "outputId": "90a55d77-f3e4-4bfe-a80c-d4d6e6667bde"
   },
   "execution_count": 20,
   "outputs": [
    {
     "output_type": "display_data",
     "data": {
      "text/plain": [
       "interactive(children=(IntSlider(value=5, description='N_value', max=10, min=1), Output()), _dom_classes=('widg…"
      ],
      "application/vnd.jupyter.widget-view+json": {
       "version_major": 2,
       "version_minor": 0,
       "model_id": "318a2c9821a546d3a207c796b5553d24"
      }
     },
     "metadata": {}
    }
   ]
  },
  {
   "cell_type": "code",
   "source": [
    ""
   ],
   "metadata": {
    "id": "l9yLAaeTIbFM"
   },
   "execution_count": 7,
   "outputs": []
  }
 ]
}

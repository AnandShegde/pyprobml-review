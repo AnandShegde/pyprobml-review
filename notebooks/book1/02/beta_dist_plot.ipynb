{
 "nbformat": 4,
 "nbformat_minor": 0,
 "metadata": {
  "colab": {
   "name": "beta_dist_plot.ipynb",
   "provenance": [],
   "collapsed_sections": []
  },
  "kernelspec": {
   "name": "python3",
   "display_name": "Python 3"
  },
  "language_info": {
   "name": "python"
  },
  "widgets": {
   "application/vnd.jupyter.widget-state+json": {
    "fa5758afc5f84ba4a3d739868f05550b": {
     "model_module": "@jupyter-widgets/controls",
     "model_name": "VBoxModel",
     "model_module_version": "1.5.0",
     "state": {
      "_dom_classes": [
       "widget-interact"
      ],
      "_model_module": "@jupyter-widgets/controls",
      "_model_module_version": "1.5.0",
      "_model_name": "VBoxModel",
      "_view_count": null,
      "_view_module": "@jupyter-widgets/controls",
      "_view_module_version": "1.5.0",
      "_view_name": "VBoxView",
      "box_style": "",
      "children": [
       "IPY_MODEL_9be5afe979e54cd495f5e73d1ad679dc",
       "IPY_MODEL_c88fa2a791e64d039b74858b53dd5e3c",
       "IPY_MODEL_7f4104b472cc41799845708a991fa580"
      ],
      "layout": "IPY_MODEL_3e6eda53005f4fd38d1668452ee3152a"
     }
    },
    "9be5afe979e54cd495f5e73d1ad679dc": {
     "model_module": "@jupyter-widgets/controls",
     "model_name": "FloatSliderModel",
     "model_module_version": "1.5.0",
     "state": {
      "_dom_classes": [],
      "_model_module": "@jupyter-widgets/controls",
      "_model_module_version": "1.5.0",
      "_model_name": "FloatSliderModel",
      "_view_count": null,
      "_view_module": "@jupyter-widgets/controls",
      "_view_module_version": "1.5.0",
      "_view_name": "FloatSliderView",
      "continuous_update": true,
      "description": "a",
      "description_tooltip": null,
      "disabled": false,
      "layout": "IPY_MODEL_29fb52c6760e49c0bb98809ca9592046",
      "max": 10,
      "min": 0.1,
      "orientation": "horizontal",
      "readout": true,
      "readout_format": ".2f",
      "step": 0.1,
      "style": "IPY_MODEL_155074a1d70c4ecd947f166f250f6f14",
      "value": 5.05
     }
    },
    "c88fa2a791e64d039b74858b53dd5e3c": {
     "model_module": "@jupyter-widgets/controls",
     "model_name": "FloatSliderModel",
     "model_module_version": "1.5.0",
     "state": {
      "_dom_classes": [],
      "_model_module": "@jupyter-widgets/controls",
      "_model_module_version": "1.5.0",
      "_model_name": "FloatSliderModel",
      "_view_count": null,
      "_view_module": "@jupyter-widgets/controls",
      "_view_module_version": "1.5.0",
      "_view_name": "FloatSliderView",
      "continuous_update": true,
      "description": "b",
      "description_tooltip": null,
      "disabled": false,
      "layout": "IPY_MODEL_e5b7143a895a4408b4287ca0a5a09969",
      "max": 10,
      "min": 0.1,
      "orientation": "horizontal",
      "readout": true,
      "readout_format": ".2f",
      "step": 0.1,
      "style": "IPY_MODEL_b4c625e1cadb4bec96d742f6c6c93a5a",
      "value": 5.05
     }
    },
    "7f4104b472cc41799845708a991fa580": {
     "model_module": "@jupyter-widgets/output",
     "model_name": "OutputModel",
     "model_module_version": "1.0.0",
     "state": {
      "_dom_classes": [],
      "_model_module": "@jupyter-widgets/output",
      "_model_module_version": "1.0.0",
      "_model_name": "OutputModel",
      "_view_count": null,
      "_view_module": "@jupyter-widgets/output",
      "_view_module_version": "1.0.0",
      "_view_name": "OutputView",
      "layout": "IPY_MODEL_94f84459ce2a4ecf8f3d3c70b5f8126f",
      "msg_id": "",
      "outputs": [
       {
        "output_type": "display_data",
        "data": {
         "text/plain": "<Figure size 432x288 with 1 Axes>",
         "image/png": "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\n"
        },
        "metadata": {
         "needs_background": "light"
        }
       }
      ]
     }
    },
    "3e6eda53005f4fd38d1668452ee3152a": {
     "model_module": "@jupyter-widgets/base",
     "model_name": "LayoutModel",
     "model_module_version": "1.2.0",
     "state": {
      "_model_module": "@jupyter-widgets/base",
      "_model_module_version": "1.2.0",
      "_model_name": "LayoutModel",
      "_view_count": null,
      "_view_module": "@jupyter-widgets/base",
      "_view_module_version": "1.2.0",
      "_view_name": "LayoutView",
      "align_content": null,
      "align_items": null,
      "align_self": null,
      "border": null,
      "bottom": null,
      "display": null,
      "flex": null,
      "flex_flow": null,
      "grid_area": null,
      "grid_auto_columns": null,
      "grid_auto_flow": null,
      "grid_auto_rows": null,
      "grid_column": null,
      "grid_gap": null,
      "grid_row": null,
      "grid_template_areas": null,
      "grid_template_columns": null,
      "grid_template_rows": null,
      "height": null,
      "justify_content": null,
      "justify_items": null,
      "left": null,
      "margin": null,
      "max_height": null,
      "max_width": null,
      "min_height": null,
      "min_width": null,
      "object_fit": null,
      "object_position": null,
      "order": null,
      "overflow": null,
      "overflow_x": null,
      "overflow_y": null,
      "padding": null,
      "right": null,
      "top": null,
      "visibility": null,
      "width": null
     }
    },
    "29fb52c6760e49c0bb98809ca9592046": {
     "model_module": "@jupyter-widgets/base",
     "model_name": "LayoutModel",
     "model_module_version": "1.2.0",
     "state": {
      "_model_module": "@jupyter-widgets/base",
      "_model_module_version": "1.2.0",
      "_model_name": "LayoutModel",
      "_view_count": null,
      "_view_module": "@jupyter-widgets/base",
      "_view_module_version": "1.2.0",
      "_view_name": "LayoutView",
      "align_content": null,
      "align_items": null,
      "align_self": null,
      "border": null,
      "bottom": null,
      "display": null,
      "flex": null,
      "flex_flow": null,
      "grid_area": null,
      "grid_auto_columns": null,
      "grid_auto_flow": null,
      "grid_auto_rows": null,
      "grid_column": null,
      "grid_gap": null,
      "grid_row": null,
      "grid_template_areas": null,
      "grid_template_columns": null,
      "grid_template_rows": null,
      "height": null,
      "justify_content": null,
      "justify_items": null,
      "left": null,
      "margin": null,
      "max_height": null,
      "max_width": null,
      "min_height": null,
      "min_width": null,
      "object_fit": null,
      "object_position": null,
      "order": null,
      "overflow": null,
      "overflow_x": null,
      "overflow_y": null,
      "padding": null,
      "right": null,
      "top": null,
      "visibility": null,
      "width": null
     }
    },
    "155074a1d70c4ecd947f166f250f6f14": {
     "model_module": "@jupyter-widgets/controls",
     "model_name": "SliderStyleModel",
     "model_module_version": "1.5.0",
     "state": {
      "_model_module": "@jupyter-widgets/controls",
      "_model_module_version": "1.5.0",
      "_model_name": "SliderStyleModel",
      "_view_count": null,
      "_view_module": "@jupyter-widgets/base",
      "_view_module_version": "1.2.0",
      "_view_name": "StyleView",
      "description_width": "",
      "handle_color": null
     }
    },
    "e5b7143a895a4408b4287ca0a5a09969": {
     "model_module": "@jupyter-widgets/base",
     "model_name": "LayoutModel",
     "model_module_version": "1.2.0",
     "state": {
      "_model_module": "@jupyter-widgets/base",
      "_model_module_version": "1.2.0",
      "_model_name": "LayoutModel",
      "_view_count": null,
      "_view_module": "@jupyter-widgets/base",
      "_view_module_version": "1.2.0",
      "_view_name": "LayoutView",
      "align_content": null,
      "align_items": null,
      "align_self": null,
      "border": null,
      "bottom": null,
      "display": null,
      "flex": null,
      "flex_flow": null,
      "grid_area": null,
      "grid_auto_columns": null,
      "grid_auto_flow": null,
      "grid_auto_rows": null,
      "grid_column": null,
      "grid_gap": null,
      "grid_row": null,
      "grid_template_areas": null,
      "grid_template_columns": null,
      "grid_template_rows": null,
      "height": null,
      "justify_content": null,
      "justify_items": null,
      "left": null,
      "margin": null,
      "max_height": null,
      "max_width": null,
      "min_height": null,
      "min_width": null,
      "object_fit": null,
      "object_position": null,
      "order": null,
      "overflow": null,
      "overflow_x": null,
      "overflow_y": null,
      "padding": null,
      "right": null,
      "top": null,
      "visibility": null,
      "width": null
     }
    },
    "b4c625e1cadb4bec96d742f6c6c93a5a": {
     "model_module": "@jupyter-widgets/controls",
     "model_name": "SliderStyleModel",
     "model_module_version": "1.5.0",
     "state": {
      "_model_module": "@jupyter-widgets/controls",
      "_model_module_version": "1.5.0",
      "_model_name": "SliderStyleModel",
      "_view_count": null,
      "_view_module": "@jupyter-widgets/base",
      "_view_module_version": "1.2.0",
      "_view_name": "StyleView",
      "description_width": "",
      "handle_color": null
     }
    },
    "94f84459ce2a4ecf8f3d3c70b5f8126f": {
     "model_module": "@jupyter-widgets/base",
     "model_name": "LayoutModel",
     "model_module_version": "1.2.0",
     "state": {
      "_model_module": "@jupyter-widgets/base",
      "_model_module_version": "1.2.0",
      "_model_name": "LayoutModel",
      "_view_count": null,
      "_view_module": "@jupyter-widgets/base",
      "_view_module_version": "1.2.0",
      "_view_name": "LayoutView",
      "align_content": null,
      "align_items": null,
      "align_self": null,
      "border": null,
      "bottom": null,
      "display": null,
      "flex": null,
      "flex_flow": null,
      "grid_area": null,
      "grid_auto_columns": null,
      "grid_auto_flow": null,
      "grid_auto_rows": null,
      "grid_column": null,
      "grid_gap": null,
      "grid_row": null,
      "grid_template_areas": null,
      "grid_template_columns": null,
      "grid_template_rows": null,
      "height": null,
      "justify_content": null,
      "justify_items": null,
      "left": null,
      "margin": null,
      "max_height": null,
      "max_width": null,
      "min_height": null,
      "min_width": null,
      "object_fit": null,
      "object_position": null,
      "order": null,
      "overflow": null,
      "overflow_x": null,
      "overflow_y": null,
      "padding": null,
      "right": null,
      "top": null,
      "visibility": null,
      "width": null
     }
    }
   }
  }
 },
 "cells": [
  {
   "cell_type": "markdown",
   "source": [
    "# Beta Distributions"
   ],
   "metadata": {
    "id": "sS1rvUzidtpC"
   }
  },
  {
   "cell_type": "code",
   "execution_count": null,
   "metadata": {
    "id": "iPOUzf2j0lNB"
   },
   "outputs": [],
   "source": [
    "import jax\n",
    "import jax.numpy as jnp\n",
    "from jax.scipy.stats import beta\n",
    "import matplotlib.pyplot as plt\n",
    "import matplotlib.pyplot as plt\n",
    "import seaborn as sns\n",
    "from probml_utils import savefig"
   ]
  },
  {
   "cell_type": "code",
   "source": [
    "import os\n",
    "\n",
    "LATEXIFY = \"LATEXIFY\" in os.environ\n",
    "\n",
    "if LATEXIFY:\n",
    "    from probml_utils import latexify\n",
    "\n",
    "    latexify(width_scale_factor=2, fig_height=2)"
   ],
   "metadata": {
    "id": "58mmIS_10m1K"
   },
   "execution_count": null,
   "outputs": []
  },
  {
   "cell_type": "code",
   "source": [
    "LEGEND_SIZE = 8 if LATEXIFY else None"
   ],
   "metadata": {
    "id": "LKmYRt1e04SJ"
   },
   "execution_count": null,
   "outputs": []
  },
  {
   "cell_type": "code",
   "source": [
    "def make_graph(data):\n",
    "    x = data[\"x\"]\n",
    "    a_list = data[\"a_list\"]\n",
    "    b_list = data[\"b_list\"]\n",
    "    props = data[\"props\"]\n",
    "\n",
    "    for a, b, p in zip(a_list, b_list, props):\n",
    "        y = beta.pdf(x, a, b)\n",
    "        plt.plot(x, y, p, lw=2, label=\"a=%.1f,b=%.1f\" % (a, b))\n",
    "\n",
    "        plt.xlabel(\"$x$\")\n",
    "        plt.ylabel(\"$pdf$\")\n",
    "        plt.legend(loc=\"best\", prop={\"size\": LEGEND_SIZE})\n",
    "        plt.title(\"Beta distributions\")\n",
    "        sns.despine()\n",
    "        savefig(\"betadist_latexified\")"
   ],
   "metadata": {
    "id": "I2NH9mTr0mvv"
   },
   "execution_count": null,
   "outputs": []
  },
  {
   "cell_type": "code",
   "source": [
    "x = jnp.linspace(0, 1, 100)\n",
    "a_list = [0.1, 0.1, 1.0, 2.0, 2.0]\n",
    "b_list = [0.1, 1.0, 1.0, 2.0, 8.0]\n",
    "props = [\"b\", \"r\", \"k\", \"g\", \"c\"]\n",
    "data = {\"x\": x, \"a_list\": a_list, \"b_list\": b_list, \"props\": props}\n",
    "make_graph(data)"
   ],
   "metadata": {
    "id": "-KxzDHI0Zpn0",
    "colab": {
     "base_uri": "https://localhost:8080/",
     "height": 295
    },
    "outputId": "85596900-affb-4704-c6fc-ef594401751e"
   },
   "execution_count": null,
   "outputs": [
    {
     "output_type": "display_data",
     "data": {
      "text/plain": [
       "<Figure size 432x288 with 1 Axes>"
      ],
      "image/png": "[encoded data removed]"
     },
     "metadata": {
      "needs_background": "light"
     }
    }
   ]
  },
  {
   "cell_type": "code",
   "source": [
    "from ipywidgets import interact\n",
    "\n",
    "\n",
    "@interact(a=(0.1, 10), b=(0.1, 10))\n",
    "def generate_random(a, b):\n",
    "    data = {\"x\": jnp.linspace(0, 1, 100), \"a_list\": [a], \"b_list\": [b], \"props\": [\"r\"]}\n",
    "    make_graph(data)\n",
    "    plt.yticks(jnp.arange(0, 11, step=1))"
   ],
   "metadata": {
    "colab": {
     "base_uri": "https://localhost:8080/",
     "height": 359,
     "referenced_widgets": [
      "fa5758afc5f84ba4a3d739868f05550b",
      "9be5afe979e54cd495f5e73d1ad679dc",
      "c88fa2a791e64d039b74858b53dd5e3c",
      "7f4104b472cc41799845708a991fa580",
      "3e6eda53005f4fd38d1668452ee3152a",
      "29fb52c6760e49c0bb98809ca9592046",
      "155074a1d70c4ecd947f166f250f6f14",
      "e5b7143a895a4408b4287ca0a5a09969",
      "b4c625e1cadb4bec96d742f6c6c93a5a",
      "94f84459ce2a4ecf8f3d3c70b5f8126f"
     ]
    },
    "id": "F4abb2X50mr0",
    "outputId": "77c48c4d-6ce7-4bf0-ee9a-6ee1391b08d0"
   },
   "execution_count": null,
   "outputs": [
    {
     "output_type": "display_data",
     "data": {
      "text/plain": [
       "interactive(children=(FloatSlider(value=5.05, description='a', max=10.0, min=0.1), FloatSlider(value=5.05, des…"
      ],
      "application/vnd.jupyter.widget-view+json": {
       "version_major": 2,
       "version_minor": 0,
       "model_id": "fa5758afc5f84ba4a3d739868f05550b"
      }
     },
     "metadata": {}
    }
   ]
  },
  {
   "cell_type": "code",
   "source": [
    ""
   ],
   "metadata": {
    "id": "wgEODUDqDRmq"
   },
   "execution_count": null,
   "outputs": []
  }
 ]
}
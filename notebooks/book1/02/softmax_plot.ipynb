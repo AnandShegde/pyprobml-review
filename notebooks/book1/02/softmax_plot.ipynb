{
 "cells": [
  {
   "cell_type": "code",
   "execution_count": 1,
   "id": "108c2ba6",
   "metadata": {},
   "outputs": [],
   "source": [
    "import jax\n",
    "import jax.numpy as jnp\n",
    "import matplotlib.pyplot as plt\n",
    "\n",
    "try:\n",
    "    from probml_utils import savefig, latexify\n",
    "except ModuleNotFoundError:\n",
    "    %pip install -qq git+https://github.com/probml/probml-utils.git\n",
    "    from probml_utils import savefig, latexify"
   ]
  },
  {
   "cell_type": "code",
   "execution_count": 2,
   "id": "b105f6fa",
   "metadata": {},
   "outputs": [
    {
     "name": "stderr",
     "output_type": "stream",
     "text": [
      "/home/tensorboy/dev/env/lib/python3.8/site-packages/probml_utils/plotting.py:26: UserWarning: LATEXIFY environment variable not set, not latexifying\n",
      "  warnings.warn(\"LATEXIFY environment variable not set, not latexifying\")\n"
     ]
    }
   ],
   "source": [
    "latexify(width_scale_factor=1, fig_height=1.5)"
   ]
  },
  {
   "cell_type": "code",
   "execution_count": 3,
   "id": "e8086194",
   "metadata": {},
   "outputs": [],
   "source": [
    "def softmax(a):\n",
    "    e = jnp.exp((1.0 * jnp.array(a)))\n",
    "    return e / jnp.sum(e)"
   ]
  },
  {
   "cell_type": "code",
   "execution_count": 5,
   "id": "b29d1c88",
   "metadata": {},
   "outputs": [],
   "source": [
    "def make_graph(T, a, save_name, fig=None, axs=None):\n",
    "    ind = jnp.arange(1, len(a) + 1)\n",
    "\n",
    "    for i in range(len(T)):\n",
    "        plt.subplot(1, len(T), i + 1)\n",
    "        plt.bar(ind, softmax(a / T[i]))\n",
    "        plt.title(\"T = %d\" % T[i])\n",
    "        plt.ylim(0, 1)\n",
    "        ax = plt.gca()\n",
    "        ax.set_xticklabels([])\n",
    "\n",
    "    if len(save_name) > 0:\n",
    "        savefig(save_name)\n",
    "    plt.tight_layout()"
   ]
  },
  {
   "cell_type": "code",
   "execution_count": 6,
   "id": "636478f1",
   "metadata": {},
   "outputs": [
    {
     "name": "stderr",
     "output_type": "stream",
     "text": [
      "WARNING:absl:No GPU/TPU found, falling back to CPU. (Set TF_CPP_MIN_LOG_LEVEL=0 and rerun for more info.)\n",
      "/home/tensorboy/dev/env/lib/python3.8/site-packages/probml_utils/plotting.py:80: UserWarning: set FIG_DIR environment variable to save figures\n",
      "  warnings.warn(\"set FIG_DIR environment variable to save figures\")\n"
     ]
    },
    {
     "data": {
      "image/png": "[encoded data removed]",
      "text/plain": [
       "<Figure size 432x288 with 3 Axes>"
      ]
     },
     "metadata": {
      "needs_background": "light"
     },
     "output_type": "display_data"
    }
   ],
   "source": [
    "T = [100, 50, 1]\n",
    "a = jnp.array([3, 0, 1])\n",
    "\n",
    "make_graph(T, a, \"softmax_T\")"
   ]
  },
  {
   "cell_type": "markdown",
   "id": "aa6db858",
   "metadata": {},
   "source": [
    "### Interactive figure for softmax distribution"
   ]
  },
  {
   "cell_type": "code",
   "execution_count": 14,
   "id": "c0e009fc",
   "metadata": {},
   "outputs": [
    {
     "data": {
      "application/vnd.jupyter.widget-view+json": {
       "model_id": "d6a9019c2f0143b7a1cbc7f560d431ea",
       "version_major": 2,
       "version_minor": 0
      },
      "text/plain": [
       "interactive(children=(IntSlider(value=50, description='T', min=1), Output()), _dom_classes=('widget-interact',…"
      ]
     },
     "metadata": {},
     "output_type": "display_data"
    }
   ],
   "source": [
    "from ipywidgets import interact\n",
    "\n",
    "\n",
    "@interact(T=(1, 100))\n",
    "def generate_interactinve_graph(T):\n",
    "    a = jnp.array([3, 0, 1])\n",
    "    make_graph([T], a, \"\")"
   ]
  }
 ],
 "metadata": {
  "kernelspec": {
   "display_name": "prob_ml",
   "language": "python",
   "name": "prob_ml"
  },
  "language_info": {
   "codemirror_mode": {
    "name": "ipython",
    "version": 3
   },
   "file_extension": ".py",
   "mimetype": "text/x-python",
   "name": "python",
   "nbconvert_exporter": "python",
   "pygments_lexer": "ipython3",
   "version": "3.8.10"
  }
 },
 "nbformat": 4,
 "nbformat_minor": 5
}

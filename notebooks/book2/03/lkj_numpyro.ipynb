{
  "nbformat": 4,
  "nbformat_minor": 0,
  "metadata": {
    "colab": {
      "name": "lkj_numpyro.ipynb",
      "provenance": [],
      "collapsed_sections": []
    },
    "kernelspec": {
      "name": "python3",
      "display_name": "Python 3"
    },
    "language_info": {
      "name": "python"
    },
    "widgets": {
      "application/vnd.jupyter.widget-state+json": {
        "b08986b74e5f4d4d98036ff3e04228fb": {
          "model_module": "@jupyter-widgets/controls",
          "model_name": "VBoxModel",
          "model_module_version": "1.5.0",
          "state": {
            "_dom_classes": [
              "widget-interact"
            ],
            "_model_module": "@jupyter-widgets/controls",
            "_model_module_version": "1.5.0",
            "_model_name": "VBoxModel",
            "_view_count": null,
            "_view_module": "@jupyter-widgets/controls",
            "_view_module_version": "1.5.0",
            "_view_name": "VBoxView",
            "box_style": "",
            "children": [
              "IPY_MODEL_df6cea5102f44dee9349d4a3596ce394",
              "IPY_MODEL_dac3a0569f6d49e0843ad74fc744c692",
              "IPY_MODEL_eb9c858acff044ee8518f48a24c3e01a"
            ],
            "layout": "IPY_MODEL_1b3fabd9222b47a1bbd8f87fb1985c30"
          }
        },
        "df6cea5102f44dee9349d4a3596ce394": {
          "model_module": "@jupyter-widgets/controls",
          "model_name": "IntSliderModel",
          "model_module_version": "1.5.0",
          "state": {
            "_dom_classes": [],
            "_model_module": "@jupyter-widgets/controls",
            "_model_module_version": "1.5.0",
            "_model_name": "IntSliderModel",
            "_view_count": null,
            "_view_module": "@jupyter-widgets/controls",
            "_view_module_version": "1.5.0",
            "_view_name": "IntSliderView",
            "continuous_update": true,
            "description": "eta",
            "description_tooltip": null,
            "disabled": false,
            "layout": "IPY_MODEL_9ad0030ab47b45bcb2e7d5fe7ca393bb",
            "max": 4,
            "min": 1,
            "orientation": "horizontal",
            "readout": true,
            "readout_format": "d",
            "step": 1,
            "style": "IPY_MODEL_708fa123413e4285873c14b90fc74053",
            "value": 4
          }
        },
        "dac3a0569f6d49e0843ad74fc744c692": {
          "model_module": "@jupyter-widgets/controls",
          "model_name": "IntSliderModel",
          "model_module_version": "1.5.0",
          "state": {
            "_dom_classes": [],
            "_model_module": "@jupyter-widgets/controls",
            "_model_module_version": "1.5.0",
            "_model_name": "IntSliderModel",
            "_view_count": null,
            "_view_module": "@jupyter-widgets/controls",
            "_view_module_version": "1.5.0",
            "_view_name": "IntSliderView",
            "continuous_update": true,
            "description": "random_seed",
            "description_tooltip": null,
            "disabled": false,
            "layout": "IPY_MODEL_d8ee9810720d47f58cc347cdcd20e1e6",
            "max": 20,
            "min": 1,
            "orientation": "horizontal",
            "readout": true,
            "readout_format": "d",
            "step": 1,
            "style": "IPY_MODEL_f505ed030122468aba8d908cfdd57987",
            "value": 10
          }
        },
        "eb9c858acff044ee8518f48a24c3e01a": {
          "model_module": "@jupyter-widgets/output",
          "model_name": "OutputModel",
          "model_module_version": "1.0.0",
          "state": {
            "_dom_classes": [],
            "_model_module": "@jupyter-widgets/output",
            "_model_module_version": "1.0.0",
            "_model_name": "OutputModel",
            "_view_count": null,
            "_view_module": "@jupyter-widgets/output",
            "_view_module_version": "1.0.0",
            "_view_name": "OutputView",
            "layout": "IPY_MODEL_dd9d6453b04f46eda08b0ab402861801",
            "msg_id": "",
            "outputs": [
              {
                "output_type": "display_data",
                "data": {
                  "text/plain": "<Figure size 432x288 with 1 Axes>",
                  "image/png": "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\n"
                },
                "metadata": {
                  "needs_background": "light"
                }
              }
            ]
          }
        },
        "1b3fabd9222b47a1bbd8f87fb1985c30": {
          "model_module": "@jupyter-widgets/base",
          "model_name": "LayoutModel",
          "model_module_version": "1.2.0",
          "state": {
            "_model_module": "@jupyter-widgets/base",
            "_model_module_version": "1.2.0",
            "_model_name": "LayoutModel",
            "_view_count": null,
            "_view_module": "@jupyter-widgets/base",
            "_view_module_version": "1.2.0",
            "_view_name": "LayoutView",
            "align_content": null,
            "align_items": null,
            "align_self": null,
            "border": null,
            "bottom": null,
            "display": null,
            "flex": null,
            "flex_flow": null,
            "grid_area": null,
            "grid_auto_columns": null,
            "grid_auto_flow": null,
            "grid_auto_rows": null,
            "grid_column": null,
            "grid_gap": null,
            "grid_row": null,
            "grid_template_areas": null,
            "grid_template_columns": null,
            "grid_template_rows": null,
            "height": null,
            "justify_content": null,
            "justify_items": null,
            "left": null,
            "margin": null,
            "max_height": null,
            "max_width": null,
            "min_height": null,
            "min_width": null,
            "object_fit": null,
            "object_position": null,
            "order": null,
            "overflow": null,
            "overflow_x": null,
            "overflow_y": null,
            "padding": null,
            "right": null,
            "top": null,
            "visibility": null,
            "width": null
          }
        },
        "9ad0030ab47b45bcb2e7d5fe7ca393bb": {
          "model_module": "@jupyter-widgets/base",
          "model_name": "LayoutModel",
          "model_module_version": "1.2.0",
          "state": {
            "_model_module": "@jupyter-widgets/base",
            "_model_module_version": "1.2.0",
            "_model_name": "LayoutModel",
            "_view_count": null,
            "_view_module": "@jupyter-widgets/base",
            "_view_module_version": "1.2.0",
            "_view_name": "LayoutView",
            "align_content": null,
            "align_items": null,
            "align_self": null,
            "border": null,
            "bottom": null,
            "display": null,
            "flex": null,
            "flex_flow": null,
            "grid_area": null,
            "grid_auto_columns": null,
            "grid_auto_flow": null,
            "grid_auto_rows": null,
            "grid_column": null,
            "grid_gap": null,
            "grid_row": null,
            "grid_template_areas": null,
            "grid_template_columns": null,
            "grid_template_rows": null,
            "height": null,
            "justify_content": null,
            "justify_items": null,
            "left": null,
            "margin": null,
            "max_height": null,
            "max_width": null,
            "min_height": null,
            "min_width": null,
            "object_fit": null,
            "object_position": null,
            "order": null,
            "overflow": null,
            "overflow_x": null,
            "overflow_y": null,
            "padding": null,
            "right": null,
            "top": null,
            "visibility": null,
            "width": null
          }
        },
        "708fa123413e4285873c14b90fc74053": {
          "model_module": "@jupyter-widgets/controls",
          "model_name": "SliderStyleModel",
          "model_module_version": "1.5.0",
          "state": {
            "_model_module": "@jupyter-widgets/controls",
            "_model_module_version": "1.5.0",
            "_model_name": "SliderStyleModel",
            "_view_count": null,
            "_view_module": "@jupyter-widgets/base",
            "_view_module_version": "1.2.0",
            "_view_name": "StyleView",
            "description_width": "",
            "handle_color": null
          }
        },
        "d8ee9810720d47f58cc347cdcd20e1e6": {
          "model_module": "@jupyter-widgets/base",
          "model_name": "LayoutModel",
          "model_module_version": "1.2.0",
          "state": {
            "_model_module": "@jupyter-widgets/base",
            "_model_module_version": "1.2.0",
            "_model_name": "LayoutModel",
            "_view_count": null,
            "_view_module": "@jupyter-widgets/base",
            "_view_module_version": "1.2.0",
            "_view_name": "LayoutView",
            "align_content": null,
            "align_items": null,
            "align_self": null,
            "border": null,
            "bottom": null,
            "display": null,
            "flex": null,
            "flex_flow": null,
            "grid_area": null,
            "grid_auto_columns": null,
            "grid_auto_flow": null,
            "grid_auto_rows": null,
            "grid_column": null,
            "grid_gap": null,
            "grid_row": null,
            "grid_template_areas": null,
            "grid_template_columns": null,
            "grid_template_rows": null,
            "height": null,
            "justify_content": null,
            "justify_items": null,
            "left": null,
            "margin": null,
            "max_height": null,
            "max_width": null,
            "min_height": null,
            "min_width": null,
            "object_fit": null,
            "object_position": null,
            "order": null,
            "overflow": null,
            "overflow_x": null,
            "overflow_y": null,
            "padding": null,
            "right": null,
            "top": null,
            "visibility": null,
            "width": null
          }
        },
        "f505ed030122468aba8d908cfdd57987": {
          "model_module": "@jupyter-widgets/controls",
          "model_name": "SliderStyleModel",
          "model_module_version": "1.5.0",
          "state": {
            "_model_module": "@jupyter-widgets/controls",
            "_model_module_version": "1.5.0",
            "_model_name": "SliderStyleModel",
            "_view_count": null,
            "_view_module": "@jupyter-widgets/base",
            "_view_module_version": "1.2.0",
            "_view_name": "StyleView",
            "description_width": "",
            "handle_color": null
          }
        },
        "dd9d6453b04f46eda08b0ab402861801": {
          "model_module": "@jupyter-widgets/base",
          "model_name": "LayoutModel",
          "model_module_version": "1.2.0",
          "state": {
            "_model_module": "@jupyter-widgets/base",
            "_model_module_version": "1.2.0",
            "_model_name": "LayoutModel",
            "_view_count": null,
            "_view_module": "@jupyter-widgets/base",
            "_view_module_version": "1.2.0",
            "_view_name": "LayoutView",
            "align_content": null,
            "align_items": null,
            "align_self": null,
            "border": null,
            "bottom": null,
            "display": null,
            "flex": null,
            "flex_flow": null,
            "grid_area": null,
            "grid_auto_columns": null,
            "grid_auto_flow": null,
            "grid_auto_rows": null,
            "grid_column": null,
            "grid_gap": null,
            "grid_row": null,
            "grid_template_areas": null,
            "grid_template_columns": null,
            "grid_template_rows": null,
            "height": null,
            "justify_content": null,
            "justify_items": null,
            "left": null,
            "margin": null,
            "max_height": null,
            "max_width": null,
            "min_height": null,
            "min_width": null,
            "object_fit": null,
            "object_position": null,
            "order": null,
            "overflow": null,
            "overflow_x": null,
            "overflow_y": null,
            "padding": null,
            "right": null,
            "top": null,
            "visibility": null,
            "width": null
          }
        }
      }
    }
  },
  "cells": [
    {
      "cell_type": "markdown",
      "source": [
        "# LKJ Prior"
      ],
      "metadata": {
        "id": "dll5z9GByVeG"
      }
    },
    {
      "cell_type": "code",
      "source": [
        "# We illustrate LKJ prior as discussed in fig 14.3 of\n",
        "# [Statistical Rethinking ed 2](https://xcelab.net/rm/statistical-rethinking/).\n",
        "# The numpyro code is from [Du Phan's site]\n",
        "#https://fehiepsi.github.io/rethinking-numpyro/14-adventures-in-covariance.html\n",
        "\n",
        "try:\n",
        "    import numpyro.distributions as dist\n",
        "except ModuleNotFoundError:\n",
        "    %pip install -qq numpyro\n",
        "    import numpyro.distributions as dist\n",
        "try:\n",
        "    from probml_utils import latexify,is_latexify_enabled,savefig\n",
        "except ModuleNotFoundError:\n",
        "    %pip install -qq git+https://github.com/probml/probml-utils.git\n",
        "    from probml_utils import latexify,is_latexify_enabled,savefig\n",
        "\n",
        "import numpy as np\n",
        "import matplotlib.pyplot as plt\n",
        "import jax\n",
        "import jax.numpy as jnp\n",
        "import seaborn as sns\n",
        "np.set_printoptions(precision=3)\n"
      ],
      "metadata": {
        "colab": {
          "base_uri": "https://localhost:8080/"
        },
        "id": "IPiq4eZ4nqoi",
        "outputId": "1f29c087-1abc-421d-d126-f8e8ce2bec7f"
      },
      "execution_count": 1,
      "outputs": [
        {
          "output_type": "stream",
          "name": "stdout",
          "text": [
            "\u001b[?25l\r\u001b[K     |█▏                              | 10 kB 16.5 MB/s eta 0:00:01\r\u001b[K     |██▎                             | 20 kB 22.5 MB/s eta 0:00:01\r\u001b[K     |███▌                            | 30 kB 15.1 MB/s eta 0:00:01\r\u001b[K     |████▋                           | 40 kB 6.7 MB/s eta 0:00:01\r\u001b[K     |█████▊                          | 51 kB 6.5 MB/s eta 0:00:01\r\u001b[K     |███████                         | 61 kB 7.7 MB/s eta 0:00:01\r\u001b[K     |████████                        | 71 kB 7.7 MB/s eta 0:00:01\r\u001b[K     |█████████▎                      | 81 kB 7.5 MB/s eta 0:00:01\r\u001b[K     |██████████▍                     | 92 kB 8.3 MB/s eta 0:00:01\r\u001b[K     |███████████▌                    | 102 kB 7.5 MB/s eta 0:00:01\r\u001b[K     |████████████▊                   | 112 kB 7.5 MB/s eta 0:00:01\r\u001b[K     |█████████████▉                  | 122 kB 7.5 MB/s eta 0:00:01\r\u001b[K     |███████████████                 | 133 kB 7.5 MB/s eta 0:00:01\r\u001b[K     |████████████████▏               | 143 kB 7.5 MB/s eta 0:00:01\r\u001b[K     |█████████████████▎              | 153 kB 7.5 MB/s eta 0:00:01\r\u001b[K     |██████████████████▌             | 163 kB 7.5 MB/s eta 0:00:01\r\u001b[K     |███████████████████▋            | 174 kB 7.5 MB/s eta 0:00:01\r\u001b[K     |████████████████████▊           | 184 kB 7.5 MB/s eta 0:00:01\r\u001b[K     |██████████████████████          | 194 kB 7.5 MB/s eta 0:00:01\r\u001b[K     |███████████████████████         | 204 kB 7.5 MB/s eta 0:00:01\r\u001b[K     |████████████████████████▎       | 215 kB 7.5 MB/s eta 0:00:01\r\u001b[K     |█████████████████████████▍      | 225 kB 7.5 MB/s eta 0:00:01\r\u001b[K     |██████████████████████████▌     | 235 kB 7.5 MB/s eta 0:00:01\r\u001b[K     |███████████████████████████▊    | 245 kB 7.5 MB/s eta 0:00:01\r\u001b[K     |████████████████████████████▉   | 256 kB 7.5 MB/s eta 0:00:01\r\u001b[K     |██████████████████████████████  | 266 kB 7.5 MB/s eta 0:00:01\r\u001b[K     |███████████████████████████████▏| 276 kB 7.5 MB/s eta 0:00:01\r\u001b[K     |████████████████████████████████| 283 kB 7.5 MB/s \n",
            "\u001b[?25h  Installing build dependencies ... \u001b[?25l\u001b[?25hdone\n",
            "  Getting requirements to build wheel ... \u001b[?25l\u001b[?25hdone\n",
            "    Preparing wheel metadata ... \u001b[?25l\u001b[?25hdone\n",
            "\u001b[K     |████████████████████████████████| 272 kB 11.4 MB/s \n",
            "\u001b[K     |████████████████████████████████| 88 kB 9.0 MB/s \n",
            "\u001b[K     |████████████████████████████████| 72 kB 691 kB/s \n",
            "\u001b[K     |████████████████████████████████| 1.1 MB 52.8 MB/s \n",
            "\u001b[?25h  Building wheel for probml-utils (PEP 517) ... \u001b[?25l\u001b[?25hdone\n",
            "  Building wheel for TexSoup (setup.py) ... \u001b[?25l\u001b[?25hdone\n",
            "  Building wheel for umap-learn (setup.py) ... \u001b[?25l\u001b[?25hdone\n",
            "  Building wheel for pynndescent (setup.py) ... \u001b[?25l\u001b[?25hdone\n"
          ]
        }
      ]
    },
    {
      "cell_type": "code",
      "source": [
        "latexify(width_scale_factor=3, fig_height=1.5)"
      ],
      "metadata": {
        "colab": {
          "base_uri": "https://localhost:8080/"
        },
        "id": "zwcHbApuqX5y",
        "outputId": "8695c71e-0e4c-4ad8-f138-194a664ec36c"
      },
      "execution_count": 2,
      "outputs": [
        {
          "output_type": "stream",
          "name": "stderr",
          "text": [
            "/usr/local/lib/python3.7/dist-packages/probml_utils/plotting.py:26: UserWarning: LATEXIFY environment variable not set, not latexifying\n",
            "  warnings.warn(\"LATEXIFY environment variable not set, not latexifying\")\n"
          ]
        }
      ]
    },
    {
      "cell_type": "code",
      "execution_count": 3,
      "metadata": {
        "colab": {
          "base_uri": "https://localhost:8080/",
          "height": 295
        },
        "id": "b-trxMOEnioO",
        "outputId": "957263ba-0702-4c5f-9d61-fa0b4b04055a"
      },
      "outputs": [
        {
          "output_type": "display_data",
          "data": {
            "text/plain": [
              "<Figure size 432x288 with 1 Axes>"
            ],
            "image/png": "[encoded data removed]"
          },
          "metadata": {
            "needs_background": "light"
          }
        }
      ],
      "source": [
        "def plot(eta_list,savename,random_seed):\n",
        "  font_size = 6 if is_latexify_enabled() else None\n",
        "  rng_key = jax.random.PRNGKey(random_seed)\n",
        "  rng_key, rng_key_ = jax.random.split(rng_key)\n",
        "  fig, ax = plt.subplots()\n",
        "  for i, eta in enumerate(eta_list):\n",
        "    R = dist.LKJ(dimension=2, concentration=eta).sample(jax.random.PRNGKey(0), (int(1e4),))\n",
        "    sns.kdeplot(R[:, 0, 1], label=f\"$\\eta$ = {eta}\",clip=[-1,1],shade=True)\n",
        "  plt.legend(loc='upper right',fontsize=font_size)\n",
        "  ax.set_xlabel('Correlation')\n",
        "  ax.set_ylabel('Density')\n",
        "  ax.set_ylim(0, 1.2)\n",
        "  ax.set_xlim(-1.2, 1.2)\n",
        "  plt.title('LKJ 1D Correlation Coef.')\n",
        "  sns.despine()\n",
        "  if len(savename) > 0:\n",
        "        savefig(savename)\n",
        "  plt.show()\n",
        "\n",
        "plot([1,2,4],'',0)"
      ]
    },
    {
      "cell_type": "code",
      "source": [
        "from ipywidgets import interact\n",
        "@interact(eta=(1,4),random_seed=(1,20))\n",
        "def generate_random(eta=2,random_seed=10):\n",
        "  plot([eta],'',random_seed)"
      ],
      "metadata": {
        "colab": {
          "base_uri": "https://localhost:8080/",
          "height": 359,
          "referenced_widgets": [
            "b08986b74e5f4d4d98036ff3e04228fb",
            "df6cea5102f44dee9349d4a3596ce394",
            "dac3a0569f6d49e0843ad74fc744c692",
            "eb9c858acff044ee8518f48a24c3e01a",
            "1b3fabd9222b47a1bbd8f87fb1985c30",
            "9ad0030ab47b45bcb2e7d5fe7ca393bb",
            "708fa123413e4285873c14b90fc74053",
            "d8ee9810720d47f58cc347cdcd20e1e6",
            "f505ed030122468aba8d908cfdd57987",
            "dd9d6453b04f46eda08b0ab402861801"
          ]
        },
        "id": "XyEfbhtc_UUM",
        "outputId": "4a916a12-d919-4743-b65a-c7f6676fa44f"
      },
      "execution_count": 4,
      "outputs": [
        {
          "output_type": "display_data",
          "data": {
            "text/plain": [
              "interactive(children=(IntSlider(value=2, description='eta', max=4, min=1), IntSlider(value=10, description='ra…"
            ],
            "application/vnd.jupyter.widget-view+json": {
              "version_major": 2,
              "version_minor": 0,
              "model_id": "b08986b74e5f4d4d98036ff3e04228fb"
            }
          },
          "metadata": {}
        }
      ]
    }
  ]
}
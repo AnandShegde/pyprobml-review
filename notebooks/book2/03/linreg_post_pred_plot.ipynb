{
 "cells": [
  {
   "cell_type": "markdown",
   "id": "b90f2d09",
   "metadata": {},
   "source": [
    "# Bayesian Linear regression vs Plugin approximation"
   ]
  },
  {
   "cell_type": "code",
   "execution_count": 1,
   "id": "b3f25d29",
   "metadata": {},
   "outputs": [],
   "source": [
    "import jax\n",
    "import jax.numpy as jnp\n",
    "import matplotlib.pyplot as plt\n",
    "\n",
    "try:\n",
    "    import probml_utils as pml\n",
    "except ModuleNotFoundError:\n",
    "    %pip install -qq git+https://github.com/probml/probml-utils.git\n",
    "    import probml_utils as pml\n",
    "from probml_utils import savefig, latexify, is_latexify_enabled\n",
    "\n",
    "try:\n",
    "    from sklearn.linear_model import Ridge\n",
    "except ModuleNotFoundError:\n",
    "    %pip install -qq scikit-learn\n",
    "    from sklearn.linear_model import Ridge\n",
    "from scipy.stats import multivariate_normal"
   ]
  },
  {
   "cell_type": "code",
   "execution_count": 2,
   "id": "1c51adc2",
   "metadata": {},
   "outputs": [
    {
     "name": "stderr",
     "output_type": "stream",
     "text": [
      "/home/anand/anaconda3/lib/python3.9/site-packages/probml_utils/plotting.py:26: UserWarning: LATEXIFY environment variable not set, not latexifying\n",
      "  warnings.warn(\"LATEXIFY environment variable not set, not latexifying\")\n"
     ]
    }
   ],
   "source": [
    "latexify(width_scale_factor=1, height_scale_factor=0.375, font_size=17)"
   ]
  },
  {
   "cell_type": "markdown",
   "id": "bcda670b",
   "metadata": {},
   "source": [
    "## Generate Data"
   ]
  },
  {
   "cell_type": "code",
   "execution_count": 3,
   "id": "36cb139a",
   "metadata": {},
   "outputs": [
    {
     "name": "stderr",
     "output_type": "stream",
     "text": [
      "WARNING:absl:No GPU/TPU found, falling back to CPU. (Set TF_CPP_MIN_LOG_LEVEL=0 and rerun for more info.)\n"
     ]
    }
   ],
   "source": [
    "polydeg = 2  # Degree of design matrix\n",
    "alph = 0.001  # Alpha of ridge regression\n",
    "NFuncSamples = 10  # Number of sample coefficients to draw and use for prediction\n",
    "vis = 0.5  # Transparency of plotted lines - in case we wish to plot a bunch.\n",
    "\n",
    "# np.random.seed(0)\n",
    "key = jax.random.PRNGKey(1)\n",
    "xtrain = jnp.array([-3, -2, 0, 2, 3])\n",
    "xtest = jnp.linspace(-7, 7, 141)\n",
    "sigma2 = 25\n",
    "\n",
    "\n",
    "def fun(x):\n",
    "    return 10 + x + x**2\n",
    "\n",
    "\n",
    "ytrain = fun(xtrain) + jax.random.normal(key=key, shape=[xtrain.shape[0]]) * jnp.sqrt(sigma2)\n",
    "ytest = fun(xtest) + jax.random.normal(key=key, shape=[xtest.shape[0]]) * jnp.sqrt(sigma2)\n",
    "\n",
    "\n",
    "def shp(x):\n",
    "    return jnp.asarray(x).reshape(-1, 1)\n",
    "\n",
    "\n",
    "xtrain = shp(xtrain)\n",
    "xtest = shp(xtest)\n",
    "ytrain = shp(ytrain)\n",
    "ytest = shp(ytest)"
   ]
  },
  {
   "cell_type": "code",
   "execution_count": 4,
   "id": "31e83c85",
   "metadata": {},
   "outputs": [],
   "source": [
    "def poly_basis(x, deg):\n",
    "    # Expands a vector to a polynomial design matrix: from a constant to the deg-power\n",
    "    return jnp.column_stack([x**deg for deg in range(0, deg + 1)])"
   ]
  },
  {
   "cell_type": "markdown",
   "id": "0e3795e6",
   "metadata": {},
   "source": [
    "## Train both models"
   ]
  },
  {
   "cell_type": "code",
   "execution_count": 7,
   "id": "efd707fc",
   "metadata": {},
   "outputs": [],
   "source": [
    "xtrainp = poly_basis(xtrain, polydeg)\n",
    "xtestp = poly_basis(xtest, polydeg)\n",
    "\n",
    "# Declare and fit linear regression model\n",
    "linreg = Ridge(alpha=alph, fit_intercept=False)\n",
    "linreg.fit(xtrainp, ytrain)\n",
    "\n",
    "# Determine coefficient distribution\n",
    "wmle = linreg.coef_.reshape(\n",
    "    -1,\n",
    ")  # Mean of coefficients\n",
    "wcov = sigma2 * jnp.linalg.inv(\n",
    "    jnp.diag(jnp.array([alph] * (polydeg + 1))) + xtrainp.T.dot(xtrainp)\n",
    ")  # Covariance of coefficients\n",
    "posterior_bayes = multivariate_normal(mean=wmle, cov=wcov)\n",
    "samples = posterior_bayes.rvs(NFuncSamples)\n",
    "\n",
    "# Sample predictions according to samples of coefficients\n",
    "prediction_samples = xtestp.dot(samples.T)\n",
    "\n",
    "ypred_mle = linreg.predict(xtestp)  # MLE prediction\n",
    "noise_mle = jnp.var(ytrain - linreg.predict(xtrainp), ddof=(polydeg + 1))  # MLE noise estimation"
   ]
  },
  {
   "cell_type": "markdown",
   "id": "f0b12d48",
   "metadata": {},
   "source": [
    "## Plotting"
   ]
  },
  {
   "cell_type": "code",
   "execution_count": 8,
   "id": "356af39a",
   "metadata": {},
   "outputs": [],
   "source": [
    "def make_plot(ypreds, save_n, title, lowerb=None, upperb=None):\n",
    "    # Function for creating and saving plots\n",
    "    if not is_latexify_enabled():\n",
    "        fig, ax = plt.subplots()\n",
    "    else:\n",
    "        fig, ax = plt.subplots()\n",
    "    ax.scatter(xtrain, ytrain, s=140, facecolors=\"none\", edgecolors=\"r\", label=\"training data\")\n",
    "    # plt.ylim([-10,80])\n",
    "    # plt.xlim([-8,8])\n",
    "    errlogi = lowerb is not None or upperb is not None  # Determines where we will be plotting error bars as well\n",
    "    if errlogi:\n",
    "        errspacing = [int(round(s)) for s in jnp.linspace(0, xtest.shape[0] - 1, 30)]\n",
    "        errspacing_reshaped = jnp.reshape(jnp.array(errspacing), (1, len(errspacing)))\n",
    "        yerr = [list(lowerb[jnp.array(errspacing)]), list(upperb[jnp.array(errspacing)])]\n",
    "        ax.errorbar(xtest[errspacing_reshaped][0, :, :], ypreds[jnp.array(errspacing), 0], yerr=yerr)\n",
    "        ax.fill_between(xtest[:, 0], ypreds[:, 0] + lowerb, ypreds[:, 0] - upperb, alpha=0.3, label=\"uncertainity\")\n",
    "\n",
    "    for j in range(ypreds.shape[1]):\n",
    "        ax.plot(xtest, ypreds[:, j], color=\"k\", linewidth=2.0, label=\"prediction\", alpha=vis)\n",
    "    if errlogi:\n",
    "        plt.legend(loc=9)\n",
    "\n",
    "    ax.set_xlabel(\"X\")\n",
    "    ax.set_ylabel(\"Y\")\n",
    "    ax.spines[\"right\"].set_visible(False)\n",
    "    ax.spines[\"top\"].set_visible(False)\n",
    "    plt.title(title)\n",
    "    pml.savefig(save_name + \"_latexified\")"
   ]
  },
  {
   "cell_type": "code",
   "execution_count": 9,
   "id": "5bdfea72",
   "metadata": {
    "colab": {
     "base_uri": "https://localhost:8080/",
     "height": 1000
    },
    "id": "5bdfea72",
    "outputId": "7829e9e5-14f8-40fe-e656-90ecfcd3595c",
    "scrolled": true
   },
   "outputs": [
    {
     "ename": "NameError",
     "evalue": "name 'noisemle' is not defined",
     "output_type": "error",
     "traceback": [
      "\u001b[0;31m---------------------------------------------------------------------------\u001b[0m",
      "\u001b[0;31mNameError\u001b[0m                                 Traceback (most recent call last)",
      "\u001b[0;32m/tmp/ipykernel_39557/2778042543.py\u001b[0m in \u001b[0;36m<module>\u001b[0;34m\u001b[0m\n\u001b[1;32m      1\u001b[0m \u001b[0;31m#plot a\u001b[0m\u001b[0;34m\u001b[0m\u001b[0;34m\u001b[0m\u001b[0m\n\u001b[0;32m----> 2\u001b[0;31m \u001b[0mnoisevec\u001b[0m \u001b[0;34m=\u001b[0m \u001b[0mjnp\u001b[0m\u001b[0;34m.\u001b[0m\u001b[0marray\u001b[0m\u001b[0;34m(\u001b[0m\u001b[0;34m[\u001b[0m\u001b[0mjnp\u001b[0m\u001b[0;34m.\u001b[0m\u001b[0msqrt\u001b[0m\u001b[0;34m(\u001b[0m\u001b[0mnoisemle\u001b[0m\u001b[0;34m)\u001b[0m\u001b[0;34m]\u001b[0m \u001b[0;34m*\u001b[0m \u001b[0mypred_mle\u001b[0m\u001b[0;34m.\u001b[0m\u001b[0mshape\u001b[0m\u001b[0;34m[\u001b[0m\u001b[0;36m0\u001b[0m\u001b[0;34m]\u001b[0m\u001b[0;34m)\u001b[0m\u001b[0;34m\u001b[0m\u001b[0;34m\u001b[0m\u001b[0m\n\u001b[0m\u001b[1;32m      3\u001b[0m \u001b[0mmake_plot\u001b[0m\u001b[0;34m(\u001b[0m\u001b[0mypred_mle\u001b[0m\u001b[0;34m,\u001b[0m \u001b[0;34m'linregPostPredPlugin'\u001b[0m\u001b[0;34m,\u001b[0m \u001b[0;34m'Plugin approximation'\u001b[0m\u001b[0;34m,\u001b[0m \u001b[0mnoisevec\u001b[0m\u001b[0;34m,\u001b[0m \u001b[0mnoisevec\u001b[0m\u001b[0;34m)\u001b[0m\u001b[0;34m\u001b[0m\u001b[0;34m\u001b[0m\u001b[0m\n\u001b[1;32m      4\u001b[0m \u001b[0;34m\u001b[0m\u001b[0m\n\u001b[1;32m      5\u001b[0m \u001b[0;31m#plot b\u001b[0m\u001b[0;34m\u001b[0m\u001b[0;34m\u001b[0m\u001b[0m\n",
      "\u001b[0;31mNameError\u001b[0m: name 'noisemle' is not defined"
     ]
    }
   ],
   "source": [
    "# plot a\n",
    "noisevec = jnp.array([jnp.sqrt(noisemle)] * ypred_mle.shape[0])\n",
    "make_plot(ypred_mle, \"linregPostPredPlugin\", \"Plugin approximation\", noisevec, noisevec)\n",
    "\n",
    "# plot b\n",
    "postnoise = jnp.array([jnp.sqrt(sigma2 + xtestp[i, :].T.dot(wcov.dot(xtestp[i, :]))) for i in range(xtestp.shape[0])])\n",
    "make_plot(ypred_mle, \"linregPostPredBayes\", \"Posterior predictive\", postnoise, postnoise)\n",
    "\n",
    "# plot c\n",
    "make_plot(ypred_mle, \"linregPostPredSamplesPlugin\", \"functions sampled from plugin approximation to posterior\")\n",
    "\n",
    "# plot d\n",
    "make_plot(prediction_samples, \"linregPostPredSamples\", \"functions sampled from posterior\")\n",
    "plt.show()"
   ]
  },
  {
   "cell_type": "code",
   "execution_count": null,
   "id": "f2c4a80b",
   "metadata": {},
   "outputs": [],
   "source": []
  },
  {
   "cell_type": "code",
   "execution_count": null,
   "id": "60f4cbed",
   "metadata": {},
   "outputs": [],
   "source": []
  }
 ],
 "metadata": {
  "colab": {
   "name": "linreg_post_pred_plot.ipynb",
   "provenance": []
  },
  "kernelspec": {
   "display_name": "Python 3 (ipykernel)",
   "language": "python",
   "name": "python3"
  },
  "language_info": {
   "codemirror_mode": {
    "name": "ipython",
    "version": 3
   },
   "file_extension": ".py",
   "mimetype": "text/x-python",
   "name": "python",
   "nbconvert_exporter": "python",
   "pygments_lexer": "ipython3",
   "version": "3.9.7"
  }
 },
 "nbformat": 4,
 "nbformat_minor": 5
}

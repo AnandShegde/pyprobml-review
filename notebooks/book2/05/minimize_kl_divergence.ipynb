{
 "cells": [
  {
   "cell_type": "markdown",
   "metadata": {
    "id": "1Ah0OR1loU-D"
   },
   "source": [
    "# **Minimize KL-divergence between two distributions**\n"
   ]
  },
  {
   "cell_type": "code",
   "execution_count": 2,
   "metadata": {
    "colab": {
     "base_uri": "https://localhost:8080/"
    },
    "id": "yFBOyFk83cVL",
    "outputId": "ae6108df-6cb8-4734-98ee-2178fa4a0f54"
   },
   "outputs": [
    {
     "output_type": "stream",
     "name": "stderr",
     "text": [
      "/usr/local/lib/python3.7/dist-packages/probml_utils/plotting.py:26: UserWarning: LATEXIFY environment variable not set, not latexifying\n",
      "  warnings.warn(\"LATEXIFY environment variable not set, not latexifying\")\n"
     ]
    }
   ],
   "source": [
    "import jax.numpy as jnp\n",
    "import jax\n",
    "import matplotlib.pyplot as plt\n",
    "\n",
    "try:\n",
    "    import distrax\n",
    "except:\n",
    "    %pip install -qq distrax\n",
    "    import distrax\n",
    "try:\n",
    "    import jaxopt\n",
    "except:\n",
    "    %pip install -qq jaxopt\n",
    "    import jaxopt\n",
    "try:\n",
    "    import optax\n",
    "except:\n",
    "    %pip install -qq optax\n",
    "    import optax\n",
    "try:\n",
    "    import seaborn as sns\n",
    "except:\n",
    "    %pip install -qq sample_data\n",
    "    import seaborn\n",
    "try:\n",
    "    from probml_utils import savefig, latexify, is_latexify_enabled\n",
    "except ModuleNotFoundError:\n",
    "    %pip install -qq git+https://github.com/probml/probml-utils.git\n",
    "    from probml_utils import savefig, latexify, is_latexify_enabled\n",
    "latexify(width_scale_factor=1.2, fig_height=1.5, font_size=9)"
   ]
  },
  {
   "cell_type": "code",
   "execution_count": 3,
   "metadata": {
    "id": "NLrM_OHr300a",
    "colab": {
     "base_uri": "https://localhost:8080/"
    },
    "outputId": "229be65a-a266-4b3c-9eb6-d99bb4183ac5"
   },
   "outputs": [
    {
     "output_type": "stream",
     "name": "stderr",
     "text": [
      "WARNING:absl:No GPU/TPU found, falling back to CPU. (Set TF_CPP_MIN_LOG_LEVEL=0 and rerun for more info.)\n"
     ]
    }
   ],
   "source": [
    "# generating a bimodal distribution q\n",
    "mix = 0.5\n",
    "mean_one, mean_two = 0.1, 3.7\n",
    "scale_one, scale_two = 0.7, 0.9\n",
    "q = distrax.MixtureSameFamily(\n",
    "    mixture_distribution=distrax.Categorical(probs=[mix, 1 - mix]),\n",
    "    components_distribution=distrax.Normal(loc=[mean_one, mean_two], scale=[scale_one, scale_two]),\n",
    ")"
   ]
  },
  {
   "cell_type": "code",
   "execution_count": 4,
   "metadata": {
    "id": "lCzFTF_JHSfT"
   },
   "outputs": [],
   "source": [
    "key = jax.random.PRNGKey(1234)\n",
    "\n",
    "\n",
    "def kl_sampling(theta, q, samples=100000):  # loss function when KL(p:q)\n",
    "    p = distrax.Normal(loc=theta[0], scale=theta[1])\n",
    "    sample_set = distrax.Normal(loc=0, scale=1).sample(seed=key, sample_shape=samples)\n",
    "    sample_set = theta[0] + theta[1] * sample_set\n",
    "    return jnp.mean(p.log_prob(sample_set) - q.log_prob(sample_set))\n",
    "\n",
    "\n",
    "def kl_sampling_inverse(theta, q, samples=100000):  # loss function when KL(q:p)\n",
    "    p = distrax.Normal(loc=theta[0], scale=theta[1])\n",
    "    sample_set = q.sample(seed=key, sample_shape=samples)\n",
    "    return jnp.mean(q.log_prob(sample_set) - p.log_prob(sample_set))"
   ]
  },
  {
   "cell_type": "code",
   "execution_count": 5,
   "metadata": {
    "id": "oMWVI2fvpNk2"
   },
   "outputs": [],
   "source": [
    "def fit(params, optimizer, loss_fun, n_itr):\n",
    "    opt_state = optimizer.init(params)\n",
    "    for i in range(n_itr):\n",
    "        samples = 1000\n",
    "        loss_value, grads = jax.value_and_grad(kl_sampling)(params, q, samples)\n",
    "        updates, opt_state = optimizer.update(grads, opt_state, params)\n",
    "        params = optax.apply_updates(params, updates)\n",
    "    return params"
   ]
  },
  {
   "cell_type": "code",
   "execution_count": 6,
   "metadata": {
    "colab": {
     "base_uri": "https://localhost:8080/"
    },
    "id": "kmT91CtBq2jY",
    "outputId": "c9b8c174-af27-4d97-caac-6b1bfeec2926"
   },
   "outputs": [
    {
     "output_type": "stream",
     "name": "stderr",
     "text": [
      "/usr/local/lib/python3.7/dist-packages/jax/_src/numpy/lax_numpy.py:4457: UserWarning: Explicitly requested dtype <class 'jax.numpy.float64'> requested in astype is not available, and will be truncated to dtype float32. To enable more dtypes, set the jax_enable_x64 configuration option or the JAX_ENABLE_X64 shell environment variable. See https://github.com/google/jax#current-gotchas for more.\n",
      "  lax_internal._check_user_dtype_supported(dtype, \"astype\")\n"
     ]
    }
   ],
   "source": [
    "optimizer = optax.adam(learning_rate=1e-1)\n",
    "n_itr = 150\n",
    "params_one = jnp.array([10.0, 11.0])\n",
    "params_one = fit(params=params_one, optimizer=optimizer, loss_fun=kl_sampling, n_itr=n_itr)\n",
    "params_two = jnp.array([10.0, 11.0])\n",
    "params_two = fit(params=params_one, optimizer=optimizer, loss_fun=kl_sampling_inverse, n_itr=n_itr)"
   ]
  },
  {
   "cell_type": "code",
   "execution_count": 11,
   "metadata": {
    "colab": {
     "base_uri": "https://localhost:8080/",
     "height": 279
    },
    "id": "jO40vvnjtfSN",
    "outputId": "1cd4a8ed-4dc4-4b15-a26d-824abdcbb17a"
   },
   "outputs": [
    {
     "output_type": "display_data",
     "data": {
      "text/plain": [
       "<Figure size 432x288 with 1 Axes>"
      ],
      "image/png": "[encoded data removed]"
     },
     "metadata": {
      "needs_background": "light"
     }
    }
   ],
   "source": [
    "x = jnp.linspace(-2, 8, int(1e4))\n",
    "plt.plot(x, q.prob(x), label=\"q\")\n",
    "plt.plot(\n",
    "    x, distrax.Normal(loc=params_one[0], scale=params_one[1]).prob(x), color=\"green\", label=r\"$$\\min_{p}\\ KL[p ; q]$$\"\n",
    ")\n",
    "plt.plot(\n",
    "    x, distrax.Normal(loc=params_two[0], scale=params_two[1]).prob(x), color=\"orange\", label=r\"$$\\min_p\\ KL[q ; p]$$\"\n",
    ")\n",
    "plt.legend()\n",
    "plt.xlabel(\"x\")\n",
    "plt.ylabel(\"P(x)\")\n",
    "sns.despine()\n",
    "savefig(\"minimize_kl_divergence\")"
   ]
  }
 ],
 "metadata": {
  "colab": {
   "name": "minimize_kl_divergence.ipynb",
   "provenance": []
  },
  "kernelspec": {
   "display_name": "Python 3",
   "language": "python",
   "name": "python3"
  },
  "language_info": {
   "codemirror_mode": {
    "name": "ipython",
    "version": 3
   },
   "file_extension": ".py",
   "mimetype": "text/x-python",
   "name": "python",
   "nbconvert_exporter": "python",
   "pygments_lexer": "ipython3",
   "version": "3.7.13"
  }
 },
 "nbformat": 4,
 "nbformat_minor": 0
}
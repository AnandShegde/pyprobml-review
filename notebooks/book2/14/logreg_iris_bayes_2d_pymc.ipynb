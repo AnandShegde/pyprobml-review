{
  "cells": [
    {
      "cell_type": "code",
      "execution_count": 1,
      "id": "8b30bd4f",
      "metadata": {
        "id": "8b30bd4f",
        "colab": {
          "base_uri": "https://localhost:8080/"
        },
        "outputId": "52e3237d-3c8c-4734-b7c7-40c299eef07e"
      },
      "outputs": [
        {
          "output_type": "stream",
          "name": "stdout",
          "text": [
            "env: MKL_THREADING_LAYER=GNU\n"
          ]
        }
      ],
      "source": [
        "# Bayesian Binary logistic regression in 2d for iris flwoers\n",
        "\n",
        "# Code is based on\n",
        "# https://github.com/aloctavodia/BAP/blob/master/code/Chp4/04_Generalizing_linear_models.ipynb\n",
        "\n",
        "%env MKL_THREADING_LAYER=GNU\n",
        "\n",
        "try:\n",
        "    import pymc as pm\n",
        "except ModuleNotFoundError:\n",
        "    %pip install mkl-service\n",
        "    %pip install -qq pymc\n",
        "    import pymc as pm\n",
        "import numpy as np\n",
        "import pandas as pd\n",
        "\n",
        "try:\n",
        "    import theano.tensor as tt\n",
        "except ModuleNotFoundError:\n",
        "    %pip install -qq theano\n",
        "    import theano.tensor as tt\n",
        "# import seaborn as sns\n",
        "import scipy.stats as stats\n",
        "from scipy.special import expit as logistic\n",
        "import matplotlib.pyplot as plt\n",
        "\n",
        "try:\n",
        "    import arviz as az\n",
        "except ModuleNotFoundError:\n",
        "    %pip install -qq arviz\n",
        "    import arviz as az\n",
        "from sklearn.datasets import load_iris\n",
        "\n",
        "try:\n",
        "    from probml_utils import savefig, latexify, is_latexify_enabled\n",
        "except ModuleNotFoundError:\n",
        "    %pip install -qq git+https://github.com/probml/probml-utils.git\n",
        "    from probml_utils import savefig, latexify, is_latexify_enabled"
      ]
    },
    {
      "cell_type": "code",
      "source": [
        "latexify(width_scale_factor=2, fig_height=1.75)"
      ],
      "metadata": {
        "id": "4MRS8FzI1Xe2",
        "colab": {
          "base_uri": "https://localhost:8080/"
        },
        "outputId": "dd81a791-95e1-46e5-e09a-2a9e3b9d4606"
      },
      "id": "4MRS8FzI1Xe2",
      "execution_count": 2,
      "outputs": [
        {
          "output_type": "stream",
          "name": "stderr",
          "text": [
            "/usr/local/lib/python3.7/dist-packages/probml_utils/plotting.py:26: UserWarning: LATEXIFY environment variable not set, not latexifying\n",
            "  warnings.warn(\"LATEXIFY environment variable not set, not latexifying\")\n"
          ]
        }
      ]
    },
    {
      "cell_type": "code",
      "source": [
        "iris = load_iris()\n",
        "X = iris.data\n",
        "y = iris.target\n",
        "\n",
        "# Convert to pandas dataframe\n",
        "df_iris = pd.DataFrame(data=iris.data, columns=[\"sepal_length\", \"sepal_width\", \"petal_length\", \"petal_width\"])\n",
        "df_iris[\"species\"] = pd.Series(iris.target_names[y], dtype=\"category\")\n",
        "\n",
        "\n",
        "df = df_iris.query(\"species == ('setosa', 'versicolor')\")\n",
        "\n",
        "# We reduce the sample size from 50 to 25 per class,\n",
        "# or to 5 + 45 in the unbalanced setting.\n",
        "# The latter will increase posterior uncertainty\n",
        "unbalanced = True  # True\n",
        "if unbalanced:\n",
        "    df = df[45:95]\n",
        "else:\n",
        "    df = df[25:75]\n",
        "assert len(df) == 50"
      ],
      "metadata": {
        "id": "6gMBIVkI0Nsd"
      },
      "id": "6gMBIVkI0Nsd",
      "execution_count": 3,
      "outputs": []
    },
    {
      "cell_type": "code",
      "source": [
        "y_1 = pd.Categorical(df[\"species\"]).codes\n",
        "x_n = [\"sepal_length\", \"sepal_width\"]\n",
        "x_1 = df[x_n].values"
      ],
      "metadata": {
        "id": "m1fU1uiy0WFE"
      },
      "id": "m1fU1uiy0WFE",
      "execution_count": 4,
      "outputs": []
    },
    {
      "cell_type": "code",
      "source": [
        "with pm.Model() as model_1:\n",
        "    α = pm.Normal(\"α\", 0, 10)\n",
        "    β = pm.Normal(\"β\", 0, 2, shape=len(x_n))\n",
        "\n",
        "    μ = α + pm.math.dot(x_1, β)\n",
        "    θ = pm.Deterministic(\"θ\", 1 / (1 + pm.math.exp(-μ)))\n",
        "    bd = pm.Deterministic(\"bd\", -α / β[1] - β[0] / β[1] * x_1[:, 0])\n",
        "\n",
        "    yl = pm.Bernoulli(\"yl\", p=θ, observed=y_1)\n",
        "\n",
        "    trace_1 = pm.sample(2000, cores=1, chains=2)\n",
        "\n",
        "varnames = [\"α\", \"β\"]\n",
        "# az.plot_forest(trace_1, var_names=varnames);"
      ],
      "metadata": {
        "colab": {
          "base_uri": "https://localhost:8080/",
          "height": 147
        },
        "id": "RZpFDw-O0YSe",
        "outputId": "8ec91465-e184-434d-be33-1477ac11c5dd"
      },
      "id": "RZpFDw-O0YSe",
      "execution_count": 5,
      "outputs": [
        {
          "output_type": "stream",
          "name": "stderr",
          "text": [
            "Auto-assigning NUTS sampler...\n",
            "Initializing NUTS using jitter+adapt_diag...\n",
            "Sequential sampling (2 chains in 1 job)\n",
            "NUTS: [α, β]\n"
          ]
        },
        {
          "output_type": "display_data",
          "data": {
            "text/plain": [
              "<IPython.core.display.HTML object>"
            ],
            "text/html": [
              "\n",
              "<style>\n",
              "    /* Turns off some styling */\n",
              "    progress {\n",
              "        /* gets rid of default border in Firefox and Opera. */\n",
              "        border: none;\n",
              "        /* Needs to be in here for Safari polyfill so background images work as expected. */\n",
              "        background-size: auto;\n",
              "    }\n",
              "    .progress-bar-interrupted, .progress-bar-interrupted::-webkit-progress-bar {\n",
              "        background: #F44336;\n",
              "    }\n",
              "</style>\n"
            ]
          },
          "metadata": {}
        },
        {
          "output_type": "display_data",
          "data": {
            "text/plain": [
              "<IPython.core.display.HTML object>"
            ],
            "text/html": [
              "\n",
              "    <div>\n",
              "      <progress value='3000' class='' max='3000' style='width:300px; height:20px; vertical-align: middle;'></progress>\n",
              "      100.00% [3000/3000 00:25<00:00 Sampling chain 0, 0 divergences]\n",
              "    </div>\n",
              "    "
            ]
          },
          "metadata": {}
        },
        {
          "output_type": "display_data",
          "data": {
            "text/plain": [
              "<IPython.core.display.HTML object>"
            ],
            "text/html": [
              "\n",
              "<style>\n",
              "    /* Turns off some styling */\n",
              "    progress {\n",
              "        /* gets rid of default border in Firefox and Opera. */\n",
              "        border: none;\n",
              "        /* Needs to be in here for Safari polyfill so background images work as expected. */\n",
              "        background-size: auto;\n",
              "    }\n",
              "    .progress-bar-interrupted, .progress-bar-interrupted::-webkit-progress-bar {\n",
              "        background: #F44336;\n",
              "    }\n",
              "</style>\n"
            ]
          },
          "metadata": {}
        },
        {
          "output_type": "display_data",
          "data": {
            "text/plain": [
              "<IPython.core.display.HTML object>"
            ],
            "text/html": [
              "\n",
              "    <div>\n",
              "      <progress value='3000' class='' max='3000' style='width:300px; height:20px; vertical-align: middle;'></progress>\n",
              "      100.00% [3000/3000 00:13<00:00 Sampling chain 1, 0 divergences]\n",
              "    </div>\n",
              "    "
            ]
          },
          "metadata": {}
        },
        {
          "output_type": "stream",
          "name": "stderr",
          "text": [
            "Sampling 2 chains for 1_000 tune and 2_000 draw iterations (2_000 + 4_000 draws total) took 39 seconds.\n"
          ]
        }
      ]
    },
    {
      "cell_type": "code",
      "source": [
        "bdsamples=np.array(trace_1['posterior']['bd'])\n",
        "bdsamplesflatten = bdsamples.reshape(-1, bdsamples.shape[-1])\n",
        "\n",
        "idx = np.argsort(x_1[:, 0])\n",
        "\n",
        "# After modifying\n",
        "# bd = trace_1[\"bd\"].mean(0)[idx]\n",
        "\n",
        "bd=bdsamplesflatten.mean(0)[idx]"
      ],
      "metadata": {
        "id": "Uj2eebfSfkVk"
      },
      "id": "Uj2eebfSfkVk",
      "execution_count": 6,
      "outputs": []
    },
    {
      "cell_type": "code",
      "source": [
        "plt.figure()\n",
        "plt.scatter(x_1[:, 0], x_1[:, 1], c=[f\"C{x}\" for x in y_1])\n",
        "plt.plot(x_1[:, 0][idx], bd, color=\"k\")\n",
        "\n",
        "az.plot_hdi(x_1[:, 0], bdsamplesflatten, color=\"k\")\n",
        "\n",
        "plt.xlabel(\"sepal length\")\n",
        "plt.ylabel(\"sepal width\")\n",
        "\n",
        "plt.tight_layout()\n",
        "if unbalanced:\n",
        "    savefig(\"logreg_iris_bayes_2d_unbalanced\", dpi=300)\n",
        "else:\n",
        "    savefig(\"logreg_iris_bayes_2d\", dpi=300)\n",
        "\n",
        "plt.show()"
      ],
      "metadata": {
        "colab": {
          "base_uri": "https://localhost:8080/",
          "height": 389
        },
        "id": "r6aFpWMKfiZV",
        "outputId": "e2a62683-bd1f-417b-a48d-1408b8b88aef"
      },
      "id": "r6aFpWMKfiZV",
      "execution_count": 7,
      "outputs": [
        {
          "output_type": "stream",
          "name": "stderr",
          "text": [
            "/usr/local/lib/python3.7/dist-packages/arviz/plots/hdiplot.py:157: FutureWarning: hdi currently interprets 2d data as (draw, shape) but this will change in a future release to (chain, draw) for coherence with other functions\n",
            "  hdi_data = hdi(y, hdi_prob=hdi_prob, circular=circular, multimodal=False, **hdi_kwargs)\n",
            "/usr/local/lib/python3.7/dist-packages/probml_utils/plotting.py:80: UserWarning: set FIG_DIR environment variable to save figures\n",
            "  warnings.warn(\"set FIG_DIR environment variable to save figures\")\n"
          ]
        },
        {
          "output_type": "display_data",
          "data": {
            "text/plain": [
              "<Figure size 432x288 with 1 Axes>"
            ],
            "image/png": "[encoded data removed]"
          },
          "metadata": {
            "needs_background": "light"
          }
        }
      ]
    }
  ],
  "metadata": {
    "colab": {
      "name": "logreg_iris_bayes_2d_pymc.ipynb",
      "provenance": []
    },
    "language_info": {
      "name": "python"
    },
    "kernelspec": {
      "name": "python3",
      "display_name": "Python 3"
    },
    "gpuClass": "standard"
  },
  "nbformat": 4,
  "nbformat_minor": 5
}
{
 "nbformat": 4,
 "nbformat_minor": 0,
 "metadata": {
  "colab": {
   "name": "gamma_dist_plot.ipynb",
   "provenance": [],
   "collapsed_sections": []
  },
  "kernelspec": {
   "name": "python3",
   "display_name": "Python 3"
  },
  "language_info": {
   "name": "python"
  },
  "widgets": {
   "application/vnd.jupyter.widget-state+json": {
    "385006b2e36e46e89974bba1c0d78984": {
     "model_module": "@jupyter-widgets/controls",
     "model_name": "VBoxModel",
     "model_module_version": "1.5.0",
     "state": {
      "_dom_classes": [
       "widget-interact"
      ],
      "_model_module": "@jupyter-widgets/controls",
      "_model_module_version": "1.5.0",
      "_model_name": "VBoxModel",
      "_view_count": null,
      "_view_module": "@jupyter-widgets/controls",
      "_view_module_version": "1.5.0",
      "_view_name": "VBoxView",
      "box_style": "",
      "children": [
       "IPY_MODEL_550f690d8a09493e9c6dfc09c5f0f197",
       "IPY_MODEL_ccec346664784775900489c4a42568bc",
       "IPY_MODEL_1dd09064b4c24b4aa3a2cf3fd1025273"
      ],
      "layout": "IPY_MODEL_96931321e0c243659563fd1b772c2790"
     }
    },
    "550f690d8a09493e9c6dfc09c5f0f197": {
     "model_module": "@jupyter-widgets/controls",
     "model_name": "FloatSliderModel",
     "model_module_version": "1.5.0",
     "state": {
      "_dom_classes": [],
      "_model_module": "@jupyter-widgets/controls",
      "_model_module_version": "1.5.0",
      "_model_name": "FloatSliderModel",
      "_view_count": null,
      "_view_module": "@jupyter-widgets/controls",
      "_view_module_version": "1.5.0",
      "_view_name": "FloatSliderView",
      "continuous_update": true,
      "description": "a",
      "description_tooltip": null,
      "disabled": false,
      "layout": "IPY_MODEL_842f1b9d8b0041c7bed5517bdeff2ffc",
      "max": 5,
      "min": 0.1,
      "orientation": "horizontal",
      "readout": true,
      "readout_format": ".2f",
      "step": 0.1,
      "style": "IPY_MODEL_0ebaaf5f0cb540cdb8b23c7465eb9725",
      "value": 2.5500000000000003
     }
    },
    "ccec346664784775900489c4a42568bc": {
     "model_module": "@jupyter-widgets/controls",
     "model_name": "FloatSliderModel",
     "model_module_version": "1.5.0",
     "state": {
      "_dom_classes": [],
      "_model_module": "@jupyter-widgets/controls",
      "_model_module_version": "1.5.0",
      "_model_name": "FloatSliderModel",
      "_view_count": null,
      "_view_module": "@jupyter-widgets/controls",
      "_view_module_version": "1.5.0",
      "_view_name": "FloatSliderView",
      "continuous_update": true,
      "description": "b",
      "description_tooltip": null,
      "disabled": false,
      "layout": "IPY_MODEL_b5b10b4527614be08abc06fc52211846",
      "max": 5,
      "min": 0.1,
      "orientation": "horizontal",
      "readout": true,
      "readout_format": ".2f",
      "step": 0.1,
      "style": "IPY_MODEL_64e8a579b4694d3e8ade557ddb5b3407",
      "value": 2.5500000000000003
     }
    },
    "1dd09064b4c24b4aa3a2cf3fd1025273": {
     "model_module": "@jupyter-widgets/output",
     "model_name": "OutputModel",
     "model_module_version": "1.0.0",
     "state": {
      "_dom_classes": [],
      "_model_module": "@jupyter-widgets/output",
      "_model_module_version": "1.0.0",
      "_model_name": "OutputModel",
      "_view_count": null,
      "_view_module": "@jupyter-widgets/output",
      "_view_module_version": "1.0.0",
      "_view_name": "OutputView",
      "layout": "IPY_MODEL_40422eb30e7841eab7f0ce344e6f43cd",
      "msg_id": "",
      "outputs": [
       {
        "output_type": "display_data",
        "data": {
         "text/plain": "<Figure size 432x288 with 1 Axes>",
         "image/png": "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\n"
        },
        "metadata": {
         "needs_background": "light"
        }
       }
      ]
     }
    },
    "96931321e0c243659563fd1b772c2790": {
     "model_module": "@jupyter-widgets/base",
     "model_name": "LayoutModel",
     "model_module_version": "1.2.0",
     "state": {
      "_model_module": "@jupyter-widgets/base",
      "_model_module_version": "1.2.0",
      "_model_name": "LayoutModel",
      "_view_count": null,
      "_view_module": "@jupyter-widgets/base",
      "_view_module_version": "1.2.0",
      "_view_name": "LayoutView",
      "align_content": null,
      "align_items": null,
      "align_self": null,
      "border": null,
      "bottom": null,
      "display": null,
      "flex": null,
      "flex_flow": null,
      "grid_area": null,
      "grid_auto_columns": null,
      "grid_auto_flow": null,
      "grid_auto_rows": null,
      "grid_column": null,
      "grid_gap": null,
      "grid_row": null,
      "grid_template_areas": null,
      "grid_template_columns": null,
      "grid_template_rows": null,
      "height": null,
      "justify_content": null,
      "justify_items": null,
      "left": null,
      "margin": null,
      "max_height": null,
      "max_width": null,
      "min_height": null,
      "min_width": null,
      "object_fit": null,
      "object_position": null,
      "order": null,
      "overflow": null,
      "overflow_x": null,
      "overflow_y": null,
      "padding": null,
      "right": null,
      "top": null,
      "visibility": null,
      "width": null
     }
    },
    "842f1b9d8b0041c7bed5517bdeff2ffc": {
     "model_module": "@jupyter-widgets/base",
     "model_name": "LayoutModel",
     "model_module_version": "1.2.0",
     "state": {
      "_model_module": "@jupyter-widgets/base",
      "_model_module_version": "1.2.0",
      "_model_name": "LayoutModel",
      "_view_count": null,
      "_view_module": "@jupyter-widgets/base",
      "_view_module_version": "1.2.0",
      "_view_name": "LayoutView",
      "align_content": null,
      "align_items": null,
      "align_self": null,
      "border": null,
      "bottom": null,
      "display": null,
      "flex": null,
      "flex_flow": null,
      "grid_area": null,
      "grid_auto_columns": null,
      "grid_auto_flow": null,
      "grid_auto_rows": null,
      "grid_column": null,
      "grid_gap": null,
      "grid_row": null,
      "grid_template_areas": null,
      "grid_template_columns": null,
      "grid_template_rows": null,
      "height": null,
      "justify_content": null,
      "justify_items": null,
      "left": null,
      "margin": null,
      "max_height": null,
      "max_width": null,
      "min_height": null,
      "min_width": null,
      "object_fit": null,
      "object_position": null,
      "order": null,
      "overflow": null,
      "overflow_x": null,
      "overflow_y": null,
      "padding": null,
      "right": null,
      "top": null,
      "visibility": null,
      "width": null
     }
    },
    "0ebaaf5f0cb540cdb8b23c7465eb9725": {
     "model_module": "@jupyter-widgets/controls",
     "model_name": "SliderStyleModel",
     "model_module_version": "1.5.0",
     "state": {
      "_model_module": "@jupyter-widgets/controls",
      "_model_module_version": "1.5.0",
      "_model_name": "SliderStyleModel",
      "_view_count": null,
      "_view_module": "@jupyter-widgets/base",
      "_view_module_version": "1.2.0",
      "_view_name": "StyleView",
      "description_width": "",
      "handle_color": null
     }
    },
    "b5b10b4527614be08abc06fc52211846": {
     "model_module": "@jupyter-widgets/base",
     "model_name": "LayoutModel",
     "model_module_version": "1.2.0",
     "state": {
      "_model_module": "@jupyter-widgets/base",
      "_model_module_version": "1.2.0",
      "_model_name": "LayoutModel",
      "_view_count": null,
      "_view_module": "@jupyter-widgets/base",
      "_view_module_version": "1.2.0",
      "_view_name": "LayoutView",
      "align_content": null,
      "align_items": null,
      "align_self": null,
      "border": null,
      "bottom": null,
      "display": null,
      "flex": null,
      "flex_flow": null,
      "grid_area": null,
      "grid_auto_columns": null,
      "grid_auto_flow": null,
      "grid_auto_rows": null,
      "grid_column": null,
      "grid_gap": null,
      "grid_row": null,
      "grid_template_areas": null,
      "grid_template_columns": null,
      "grid_template_rows": null,
      "height": null,
      "justify_content": null,
      "justify_items": null,
      "left": null,
      "margin": null,
      "max_height": null,
      "max_width": null,
      "min_height": null,
      "min_width": null,
      "object_fit": null,
      "object_position": null,
      "order": null,
      "overflow": null,
      "overflow_x": null,
      "overflow_y": null,
      "padding": null,
      "right": null,
      "top": null,
      "visibility": null,
      "width": null
     }
    },
    "64e8a579b4694d3e8ade557ddb5b3407": {
     "model_module": "@jupyter-widgets/controls",
     "model_name": "SliderStyleModel",
     "model_module_version": "1.5.0",
     "state": {
      "_model_module": "@jupyter-widgets/controls",
      "_model_module_version": "1.5.0",
      "_model_name": "SliderStyleModel",
      "_view_count": null,
      "_view_module": "@jupyter-widgets/base",
      "_view_module_version": "1.2.0",
      "_view_name": "StyleView",
      "description_width": "",
      "handle_color": null
     }
    },
    "40422eb30e7841eab7f0ce344e6f43cd": {
     "model_module": "@jupyter-widgets/base",
     "model_name": "LayoutModel",
     "model_module_version": "1.2.0",
     "state": {
      "_model_module": "@jupyter-widgets/base",
      "_model_module_version": "1.2.0",
      "_model_name": "LayoutModel",
      "_view_count": null,
      "_view_module": "@jupyter-widgets/base",
      "_view_module_version": "1.2.0",
      "_view_name": "LayoutView",
      "align_content": null,
      "align_items": null,
      "align_self": null,
      "border": null,
      "bottom": null,
      "display": null,
      "flex": null,
      "flex_flow": null,
      "grid_area": null,
      "grid_auto_columns": null,
      "grid_auto_flow": null,
      "grid_auto_rows": null,
      "grid_column": null,
      "grid_gap": null,
      "grid_row": null,
      "grid_template_areas": null,
      "grid_template_columns": null,
      "grid_template_rows": null,
      "height": null,
      "justify_content": null,
      "justify_items": null,
      "left": null,
      "margin": null,
      "max_height": null,
      "max_width": null,
      "min_height": null,
      "min_width": null,
      "object_fit": null,
      "object_position": null,
      "order": null,
      "overflow": null,
      "overflow_x": null,
      "overflow_y": null,
      "padding": null,
      "right": null,
      "top": null,
      "visibility": null,
      "width": null
     }
    }
   }
  }
 },
 "cells": [
  {
   "cell_type": "markdown",
   "source": [
    "# Gamma Distributions"
   ],
   "metadata": {
    "id": "7OGyhw9v31o1"
   }
  },
  {
   "cell_type": "code",
   "execution_count": 1,
   "metadata": {
    "id": "iPOUzf2j0lNB"
   },
   "outputs": [],
   "source": [
    "import jax\n",
    "import jax.numpy as jnp\n",
    "from jax.scipy.stats import gamma\n",
    "import matplotlib.pyplot as plt\n",
    "import matplotlib.pyplot as plt\n",
    "import seaborn as sns\n",
    "from probml_utils import savefig"
   ]
  },
  {
   "cell_type": "code",
   "source": [
    "import os\n",
    "\n",
    "LATEXIFY = \"LATEXIFY\" in os.environ\n",
    "\n",
    "if LATEXIFY:\n",
    "    from probml_utils import latexify\n",
    "\n",
    "    latexify(width_scale_factor=2, fig_height=2)"
   ],
   "metadata": {
    "id": "58mmIS_10m1K"
   },
   "execution_count": 2,
   "outputs": []
  },
  {
   "cell_type": "code",
   "source": [
    "LEGEND_SIZE = 7 if LATEXIFY else None"
   ],
   "metadata": {
    "id": "fvd0lNUy4Kut"
   },
   "execution_count": 3,
   "outputs": []
  },
  {
   "cell_type": "code",
   "source": [
    "def make_graph(data):\n",
    "    x = data[\"x\"]\n",
    "    a_list = data[\"a_list\"]\n",
    "    b_list = data[\"b_list\"]\n",
    "    props = data[\"props\"]\n",
    "    fig_name = data[\"fig_name\"]\n",
    "\n",
    "    for a, b, p in zip(a_list, b_list, props):\n",
    "        y = gamma.pdf(x, a, scale=1 / b, loc=0)\n",
    "        plt.plot(x, y, p, lw=2, label=\"a=%.1f,b=%.1f\" % (a, b))\n",
    "\n",
    "        plt.xlabel(\"$x$\")\n",
    "        plt.ylabel(\"$pdf$\")\n",
    "        plt.legend(loc=\"upper right\", prop={\"size\": LEGEND_SIZE})\n",
    "        plt.title(fig_name)\n",
    "        sns.despine()"
   ],
   "metadata": {
    "id": "iH5XbYaWeW-7"
   },
   "execution_count": 4,
   "outputs": []
  },
  {
   "cell_type": "code",
   "source": [
    "x = jnp.linspace(0, 7, 100)\n",
    "a_list = [1.0, 1.5, 2.0, 1.0, 1.5, 2.0]\n",
    "b_list = [1.0, 1.0, 1.0, 2.0, 2.0, 2.0]\n",
    "props = [\"b-\", \"r-\", \"k-\", \"b:\", \"r:\", \"k:\"]\n",
    "data = {\"x\": x, \"a_list\": a_list, \"b_list\": b_list, \"props\": props, \"fig_name\": \"Gamma distributions\"}\n",
    "make_graph(data)\n",
    "savefig(\"gammadist_latexified\")"
   ],
   "metadata": {
    "colab": {
     "base_uri": "https://localhost:8080/",
     "height": 312
    },
    "id": "kk0h8yftdDcp",
    "outputId": "c3f747e4-a05a-4fad-eb7d-5cabb7fae805"
   },
   "execution_count": 5,
   "outputs": [
    {
     "output_type": "stream",
     "name": "stderr",
     "text": [
      "WARNING:absl:No GPU/TPU found, falling back to CPU. (Set TF_CPP_MIN_LOG_LEVEL=0 and rerun for more info.)\n"
     ]
    },
    {
     "output_type": "display_data",
     "data": {
      "text/plain": [
       "<Figure size 432x288 with 1 Axes>"
      ],
      "image/png": "[encoded data removed]"
     },
     "metadata": {
      "needs_background": "light"
     }
    }
   ]
  },
  {
   "cell_type": "code",
   "source": [
    "x = jnp.linspace(0, 7, 100)\n",
    "a_list = [1, 1.5, 2]\n",
    "b_list = [1, 1, 1]\n",
    "props = [\"b-\", \"r-\", \"g-\"]\n",
    "data = {\"x\": x, \"a_list\": a_list, \"b_list\": b_list, \"props\": props, \"fig_name\": \"Gamma(a,b) distributions\"}\n",
    "make_graph(data)"
   ],
   "metadata": {
    "colab": {
     "base_uri": "https://localhost:8080/",
     "height": 295
    },
    "id": "3d6PKkO8g9Fj",
    "outputId": "1e848d9c-a317-43db-e3ae-7b1244c757b1"
   },
   "execution_count": null,
   "outputs": [
    {
     "output_type": "display_data",
     "data": {
      "text/plain": [
       "<Figure size 432x288 with 1 Axes>"
      ],
      "image/png": "[encoded data removed]"
     },
     "metadata": {
      "needs_background": "light"
     }
    }
   ]
  },
  {
   "cell_type": "code",
   "source": [
    "x = jnp.linspace(0, 7, 100)\n",
    "a_list = [1]\n",
    "b_list = [1]\n",
    "props = [\"b-\"]\n",
    "data = {\"x\": x, \"a_list\": a_list, \"b_list\": b_list, \"props\": props, \"fig_name\": \"Gamma(1,1) distribution\"}\n",
    "make_graph(data)\n",
    "plt.axvline(1, color=\"r\")\n",
    "plt.show()"
   ],
   "metadata": {
    "colab": {
     "base_uri": "https://localhost:8080/",
     "height": 295
    },
    "id": "PG7W-4PAhPae",
    "outputId": "792b53b9-3b31-4dd8-c6fc-8cc7beae34db"
   },
   "execution_count": null,
   "outputs": [
    {
     "output_type": "display_data",
     "data": {
      "text/plain": [
       "<Figure size 432x288 with 1 Axes>"
      ],
      "image/png": "[encoded data removed]"
     },
     "metadata": {
      "needs_background": "light"
     }
    }
   ]
  },
  {
   "cell_type": "code",
   "source": [
    "from ipywidgets import interact\n",
    "\n",
    "\n",
    "@interact(a=(0.1, 5), b=(0.1, 5))\n",
    "def generate_random(a, b):\n",
    "    data = {\n",
    "        \"x\": jnp.linspace(0, 7, 100),\n",
    "        \"a_list\": [a],\n",
    "        \"b_list\": [b],\n",
    "        \"props\": [\"b\"],\n",
    "        \"fig_name\": \"Gamma distributions\",\n",
    "    }\n",
    "    make_graph(data)\n",
    "    plt.yticks(jnp.arange(0, 6, step=1))"
   ],
   "metadata": {
    "colab": {
     "base_uri": "https://localhost:8080/",
     "height": 359,
     "referenced_widgets": [
      "385006b2e36e46e89974bba1c0d78984",
      "550f690d8a09493e9c6dfc09c5f0f197",
      "ccec346664784775900489c4a42568bc",
      "1dd09064b4c24b4aa3a2cf3fd1025273",
      "96931321e0c243659563fd1b772c2790",
      "842f1b9d8b0041c7bed5517bdeff2ffc",
      "0ebaaf5f0cb540cdb8b23c7465eb9725",
      "b5b10b4527614be08abc06fc52211846",
      "64e8a579b4694d3e8ade557ddb5b3407",
      "40422eb30e7841eab7f0ce344e6f43cd"
     ]
    },
    "id": "XUpV9fGMfU7c",
    "outputId": "7a77e041-cfd4-4965-f937-bee80cdbe5ba"
   },
   "execution_count": null,
   "outputs": [
    {
     "output_type": "display_data",
     "data": {
      "text/plain": [
       "interactive(children=(FloatSlider(value=2.5500000000000003, description='a', max=5.0, min=0.1), FloatSlider(va…"
      ],
      "application/vnd.jupyter.widget-view+json": {
       "version_major": 2,
       "version_minor": 0,
       "model_id": "385006b2e36e46e89974bba1c0d78984"
      }
     },
     "metadata": {}
    }
   ]
  }
 ]
}
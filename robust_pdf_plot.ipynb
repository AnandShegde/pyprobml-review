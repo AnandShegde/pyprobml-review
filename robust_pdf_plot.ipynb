{
 "cells": [
  {
   "cell_type": "code",
   "execution_count": 1,
   "metadata": {
    "id": "foaTJKugAFVM"
   },
   "outputs": [],
   "source": [
    "try:\n",
    "    import jax.numpy as jnp\n",
    "    from jax import random\n",
    "except:\n",
    "    %pip install jax jaxlib\n",
    "    import jax.numpy as jnp\n",
    "    from jax import random\n",
    "\n",
    "try:\n",
    "    import matplotlib.pyplot as plt\n",
    "except:\n",
    "    %pip install matplotlib\n",
    "    import matplotlib.pyplot as plt\n",
    "\n",
    "try:\n",
    "    from scipy.stats import t, laplace, norm\n",
    "except:\n",
    "    %pip install scipy\n",
    "    from scipy.stats import t, laplace, norm\n",
    "\n",
    "try:\n",
    "    import seaborn as sns\n",
    "except:\n",
    "    %pip install seaborn\n",
    "    import seaborn as sns"
   ]
  },
  {
   "cell_type": "code",
   "execution_count": 2,
   "metadata": {},
   "outputs": [],
   "source": [
    "import os\n",
    "\n",
    "LATEXIFY = \"LATEXIFY\" in os.environ\n",
    "\n",
    "if LATEXIFY:\n",
    "\n",
    "    import sys\n",
    "\n",
    "    # Don't change to \"../scripts\", instead, run this nb from repo's root with ipython\n",
    "    sys.path.append(\"scripts\")\n",
    "    from plot_utils import latexify, savefig\n",
    "\n",
    "    latexify(width_scale_factor=2, fig_height=2.0)"
   ]
  },
  {
   "cell_type": "code",
   "execution_count": 3,
   "metadata": {
    "id": "RZ3xndSRF-mm"
   },
   "outputs": [],
   "source": [
    "def plot_outlier_effect(\n",
    "    save_name,\n",
    "    outliers=[],\n",
    "    bins=7,\n",
    "    ss_norm_dist=30,\n",
    "    ss_graph_xaxis=500,\n",
    "    range_xaxis=[-5, 10],\n",
    "    fig=None,\n",
    "    ax=None,\n",
    "):\n",
    "    \"\"\"\n",
    "    Sample from a normal distribution and plot the the PDF for\n",
    "    normal distribution, laplacian distribution and the student T\n",
    "    distribution. The function plots/saves data for normal\n",
    "    distribution. If outliers are provided, we see the\n",
    "    robustness of the studennt T distribution compared to\n",
    "    the normal distribution.\n",
    "\n",
    "\n",
    "    Args:\n",
    "    ----------\n",
    "    save_name : string\n",
    "        The PDF filenames to save the graphs\n",
    "\n",
    "    outliers :  list, default=[]\n",
    "        A list of outlier values\n",
    "\n",
    "    bins : int, default=7\n",
    "        Value of bin size for normal distribution histogram\n",
    "\n",
    "    ss_norm_dist : int, default=30\n",
    "        Number of samples to be taken from the normal distribution\n",
    "\n",
    "    ss_graph_xaxis : int, default=500\n",
    "        Number of values for the x-axis i.e the values the\n",
    "        random variable can take\n",
    "\n",
    "    range_xaxis : list, default=[-5, 10]\n",
    "        The range of values for the x-axis\n",
    "\n",
    "    fig : None\n",
    "        Will be used to store matplotlib figure\n",
    "\n",
    "    ax : None\n",
    "        Will be used to store matplotlib axes\n",
    "\n",
    "    Returns:\n",
    "    ----------\n",
    "    fig : matplotlib figure object\n",
    "        Stores the graph data displayed\n",
    "\n",
    "    ax : matplotlib axis object\n",
    "        Stores the axes data of the graph displayed\n",
    "    \"\"\"\n",
    "\n",
    "    # Genrate Samples from normal distribution\n",
    "    norm_dist_sample = random.normal(random.PRNGKey(42), shape=(ss_norm_dist,))\n",
    "\n",
    "    # Genrate values for x axis i.e. the values your random variable can take\n",
    "    x_axis = jnp.linspace(range_xaxis[0], range_xaxis[1], ss_graph_xaxis)\n",
    "\n",
    "    # Set figure width and height\n",
    "    fig, ax = plt.subplots()\n",
    "\n",
    "    if outliers:\n",
    "        samples = jnp.hstack((norm_dist_sample, jnp.array(outliers)))\n",
    "\n",
    "        # Plot the data from normal distribution\n",
    "        ax.hist(\n",
    "            norm_dist_sample,\n",
    "            bins,\n",
    "            weights=[1 / (norm_dist_sample.shape[0] + len(outliers))] * norm_dist_sample.shape[0],\n",
    "            rwidth=0.8,\n",
    "        )\n",
    "\n",
    "        # Plot outlier data\n",
    "        ax.hist(\n",
    "            outliers,\n",
    "            len(outliers),\n",
    "            weights=[1 / (norm_dist_sample.shape[0] + len(outliers))] * len(outliers),\n",
    "            rwidth=0.8,\n",
    "        )\n",
    "    else:\n",
    "        samples = norm_dist_sample\n",
    "\n",
    "        # Plot the data from normal distribution\n",
    "        ax.hist(\n",
    "            norm_dist_sample,\n",
    "            bins,\n",
    "            weights=[1 / norm_dist_sample.shape[0]] * norm_dist_sample.shape[0],\n",
    "            rwidth=0.8,\n",
    "        )\n",
    "\n",
    "    # Calculate mean and standard deviation for different distributions and then\n",
    "    # find the PDF for each distributions\n",
    "    loc, scale = norm.fit(samples)\n",
    "    n = norm.pdf(x_axis, loc=loc, scale=scale)\n",
    "\n",
    "    loc, scale = laplace.fit(samples)\n",
    "    l = laplace.pdf(x_axis, loc=loc, scale=scale)\n",
    "\n",
    "    fd, loc, scale = t.fit(samples)\n",
    "    s = t.pdf(x_axis, fd, loc=loc, scale=scale)\n",
    "\n",
    "    # Find range of values for PDF i.e y-axis\n",
    "    y_all_data = jnp.concatenate((n, l, s))\n",
    "    y_range = [jnp.round(jnp.min(y_all_data), 1), jnp.round(jnp.max(y_all_data), 1)]\n",
    "\n",
    "    # Update tick intervals for x-axis\n",
    "    ax.set_xticks(jnp.arange(range_xaxis[0], range_xaxis[1] + 1, 5))\n",
    "\n",
    "    # Update the tick intervals and limit for y-axis\n",
    "    ax.set_ylim(y_range)\n",
    "    ax.set_yticks(jnp.linspace(y_range[0], y_range[1], 5))\n",
    "\n",
    "    # Plot the different PDF's obtained\n",
    "    ax.plot(x_axis, n, \"k:\", x_axis, s, \"r-\", x_axis, l, \"b--\")\n",
    "\n",
    "    # Update the Legend and the axis labels\n",
    "    ax.legend((\"gaussian\", \"student T\", \"laplace\"), fontsize=12)\n",
    "    ax.set_xlabel(\"$x$\")\n",
    "    ax.set_ylabel(\"$Pr(X=x)$\")\n",
    "\n",
    "    sns.despine()\n",
    "\n",
    "    # Save figure to PDF files\n",
    "    if LATEXIFY and len(save_name) > 0:\n",
    "        savefig(save_name)\n",
    "\n",
    "    return fig, ax"
   ]
  },
  {
   "cell_type": "code",
   "execution_count": 4,
   "metadata": {
    "colab": {
     "base_uri": "https://localhost:8080/",
     "height": 265
    },
    "id": "3vc5WuSjOqwb",
    "outputId": "1e08144c-5ee8-4e0f-b88f-83085849b813"
   },
   "outputs": [
    {
     "name": "stderr",
     "output_type": "stream",
     "text": [
      "WARNING:absl:No GPU/TPU found, falling back to CPU. (Set TF_CPP_MIN_LOG_LEVEL=0 and rerun for more info.)\n"
     ]
    },
    {
     "data": {
      "image/png": "[encoded data removed]",
      "text/plain": [
       "<Figure size 432x288 with 1 Axes>"
      ]
     },
     "metadata": {
      "needs_background": "light"
     },
     "output_type": "display_data"
    }
   ],
   "source": [
    "_, _ = plot_outlier_effect(save_name=\"robust_pdf_plot_latexified.pdf\")"
   ]
  },
  {
   "cell_type": "code",
   "execution_count": 5,
   "metadata": {
    "colab": {
     "base_uri": "https://localhost:8080/",
     "height": 265
    },
    "id": "aSlBkj6oIbqe",
    "outputId": "c332581a-04d6-402c-a51a-cc5864105cf5"
   },
   "outputs": [
    {
     "data": {
      "image/png": "[encoded data removed]",
      "text/plain": [
       "<Figure size 432x288 with 1 Axes>"
      ]
     },
     "metadata": {
      "needs_background": "light"
     },
     "output_type": "display_data"
    }
   ],
   "source": [
    "_, _ = plot_outlier_effect(save_name=\"robust_pdf_plot_outliers_latexified.pdf\", outliers=[8, 8.75, 9.5])"
   ]
  },
  {
   "cell_type": "code",
   "execution_count": null,
   "metadata": {},
   "outputs": [],
   "source": []
  }
 ],
 "metadata": {
  "colab": {
   "collapsed_sections": [],
   "name": "robust_pdf_plot.ipynb",
   "provenance": []
  },
  "kernelspec": {
   "display_name": "Python 3 (ipykernel)",
   "language": "python",
   "name": "python3"
  },
  "language_info": {
   "codemirror_mode": {
    "name": "ipython",
    "version": 3
   },
   "file_extension": ".py",
   "mimetype": "text/x-python",
   "name": "python",
   "nbconvert_exporter": "python",
   "pygments_lexer": "ipython3",
   "version": "3.7.6"
  },
  "toc": {
   "base_numbering": 1,
   "nav_menu": {},
   "number_sections": true,
   "sideBar": true,
   "skip_h1_title": false,
   "title_cell": "Table of Contents",
   "title_sidebar": "Contents",
   "toc_cell": false,
   "toc_position": {},
   "toc_section_display": true,
   "toc_window_display": false
  }
 },
 "nbformat": 4,
 "nbformat_minor": 1
}
